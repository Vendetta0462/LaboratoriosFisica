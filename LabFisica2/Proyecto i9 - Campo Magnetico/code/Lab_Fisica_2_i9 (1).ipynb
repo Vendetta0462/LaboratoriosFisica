{
 "cells": [
  {
   "cell_type": "code",
   "execution_count": 35,
   "metadata": {},
   "outputs": [],
   "source": [
    "import numpy as np\n",
    "import matplotlib.pyplot as plt\n",
    "import seaborn as sns\n",
    "import pandas as pd"
   ]
  },
  {
   "cell_type": "code",
   "execution_count": 77,
   "metadata": {},
   "outputs": [],
   "source": [
    "L = 0.0005 #Distancia en conductor rectilíneo\n",
    "R = 0.02172 #Radio en espira circular\n",
    "D = 5000 #Densidad de espiras en solenoide"
   ]
  },
  {
   "cell_type": "code",
   "execution_count": 2,
   "metadata": {},
   "outputs": [],
   "source": [
    "#Valores de campo magnético\n",
    "\n",
    "B_1 = [0.0678, 0.1005,0.1445,0.2068,0.2735,0.3281,0.3490, 0.3929]\n",
    "\n",
    "B_2 = [0.0454,0.0715,0.0713,0.0954,0.0949,0.1218, 0.1184,0.1297]\n",
    "\n",
    "B_3 = [1.7765,2.7243,3.5306,5.0512,6.0895,6.5783,8.1768,8.6766]"
   ]
  },
  {
   "cell_type": "code",
   "execution_count": 3,
   "metadata": {},
   "outputs": [],
   "source": [
    "#Valores de corriente\n",
    "\n",
    "I_1 = [1.5,3,4.5,6,7.5,9,10.5,11.3]\n",
    "\n",
    "I_2 = [1,2,3,4,5,6,7,8]\n",
    "\n",
    "I_3 = [0.1,0.2,0.3,0.4,0.5,0.6,0.7,0.8]\n",
    " "
   ]
  },
  {
   "cell_type": "code",
   "execution_count": 4,
   "metadata": {},
   "outputs": [
    {
     "data": {
      "text/plain": [
       "<matplotlib.collections.PathCollection at 0x7f58f717a310>"
      ]
     },
     "execution_count": 4,
     "metadata": {},
     "output_type": "execute_result"
    },
    {
     "data": {
      "image/png": "[encoded data removed]",
      "text/plain": [
       "<Figure size 432x288 with 1 Axes>"
      ]
     },
     "metadata": {
      "needs_background": "light"
     },
     "output_type": "display_data"
    }
   ],
   "source": [
    "plt.scatter(I_1,B_1)"
   ]
  },
  {
   "cell_type": "code",
   "execution_count": 5,
   "metadata": {},
   "outputs": [
    {
     "data": {
      "text/plain": [
       "<matplotlib.collections.PathCollection at 0x7f58f4e97fa0>"
      ]
     },
     "execution_count": 5,
     "metadata": {},
     "output_type": "execute_result"
    },
    {
     "data": {
      "image/png": "[encoded data removed]",
      "text/plain": [
       "<Figure size 432x288 with 1 Axes>"
      ]
     },
     "metadata": {
      "needs_background": "light"
     },
     "output_type": "display_data"
    }
   ],
   "source": [
    "plt.scatter(I_2,B_2)"
   ]
  },
  {
   "cell_type": "code",
   "execution_count": 6,
   "metadata": {},
   "outputs": [
    {
     "data": {
      "text/plain": [
       "<matplotlib.collections.PathCollection at 0x7f58f4df8f40>"
      ]
     },
     "execution_count": 6,
     "metadata": {},
     "output_type": "execute_result"
    },
    {
     "data": {
      "image/png": "[encoded data removed]",
      "text/plain": [
       "<Figure size 432x288 with 1 Axes>"
      ]
     },
     "metadata": {
      "needs_background": "light"
     },
     "output_type": "display_data"
    }
   ],
   "source": [
    "plt.scatter(I_3,B_3)"
   ]
  },
  {
   "cell_type": "code",
   "execution_count": 7,
   "metadata": {},
   "outputs": [],
   "source": [
    "##### Campo magnético de espira rectilinea y circular\n",
    "def m(I,B,r):\n",
    "    mu = (2 * np.pi * r * B*(10)**-3) / I\n",
    "    return mu\n",
    "\n",
    "#Campo magnético del solenoide \n",
    "def f(I,B,rho):\n",
    "    mu = B*(10)**-3 / rho * I\n",
    "    return mu"
   ]
  },
  {
   "cell_type": "code",
   "execution_count": 78,
   "metadata": {},
   "outputs": [],
   "source": [
    "mu_1=[]\n",
    "mu_2=[]\n",
    "mu_3=[]\n",
    "\n",
    "for i in range(0,8):\n",
    "    l = m(I_1[i], B_1[i], L)\n",
    "    mu_1.append(l)\n",
    "\n",
    "for i in range(0,8):\n",
    "    s = m(I_2[i], B_2[i], R)\n",
    "    mu_2.append(s)\n",
    "\n",
    "for i in range(0,8):\n",
    "    n = f(I_3[i],B_3[i],D)\n",
    "    mu_3.append(n)\n",
    "    "
   ]
  },
  {
   "cell_type": "code",
   "execution_count": 82,
   "metadata": {},
   "outputs": [],
   "source": [
    "i_1_1=[0.0721,0.0655,0.0735,0.0601,]\n",
    "i_1_2=[0.1028, 0.1011, 0.0998, 0.0982]\n",
    "i_1_3=[0.1326,0.1427,0.1544,0.1482]\n",
    "i_1_4=[0.2135,0.2054,0.2013,0.2069]\n",
    "i_1_5=[0.2714,0.2700,0.2732,0.2792]\n",
    "i_1_6=[0.3312,0.3150,0.3356,0.3306]\n",
    "i_1_7=[0.3751,0.3950,0.4051,0.3964]\n",
    "i_1_8=[0.3539,0.3505,0.3374,0.3541]\n",
    "\n",
    "\n",
    "i_2_1=[0.0355,0.0326,0.0580,0.0556]\n",
    "i_2_2=[0.0725,0.0658,0.0634,0.0841]\n",
    "i_2_3=[0.0864,0.0680,0.0658,0.0648]\n",
    "i_2_4=[0.0851,0.0922,0.1024,0.1020]\n",
    "i_2_5=[0.0848,0.0842,0.1019,0.1087]\n",
    "i_2_6=[0.1337,0.1088,0.1302,0.1144]\n",
    "i_2_7=[0.1205,0.1195,0.1126,0.1210]\n",
    "i_2_8=[0.1259,0.1315,0.1401,0.1213]\n",
    "\n",
    "i_3_1=[1.7759,1.7829,1.7716,1.7756]\n",
    "i_3_2=[2.7167, 2.7217,2.7225,2.7364]\n",
    "i_3_3=[3.5370,3.5287,3.5298,3.5269]\n",
    "i_3_4=[5.0448,5.0549,5.0444,5.0605]\n",
    "i_3_5=[6.0773,6.0894,6.0931,6.0983]\n",
    "i_3_6=[6.5988,6.5749,6.5704,6.5690]\n",
    "i_3_7=[8.1829,8.1810,8.1726,8.1705]\n",
    "i_3_8=[8.7098,8.6831,8.6556,8.6579]"
   ]
  },
  {
   "cell_type": "code",
   "execution_count": 56,
   "metadata": {},
   "outputs": [
    {
     "data": {
      "text/html": [
       "<div>\n",
       "<style scoped>\n",
       "    .dataframe tbody tr th:only-of-type {\n",
       "        vertical-align: middle;\n",
       "    }\n",
       "\n",
       "    .dataframe tbody tr th {\n",
       "        vertical-align: top;\n",
       "    }\n",
       "\n",
       "    .dataframe thead th {\n",
       "        text-align: right;\n",
       "    }\n",
       "</style>\n",
       "<table border=\"1\" class=\"dataframe\">\n",
       "  <thead>\n",
       "    <tr style=\"text-align: right;\">\n",
       "      <th></th>\n",
       "      <th>B_1_1:</th>\n",
       "      <th>B_1_2:</th>\n",
       "      <th>B_1_3:</th>\n",
       "      <th>B_1_4:</th>\n",
       "      <th>B_1_5:</th>\n",
       "      <th>B_1_6:</th>\n",
       "      <th>B_1_7:</th>\n",
       "      <th>B_1_8:</th>\n",
       "    </tr>\n",
       "  </thead>\n",
       "  <tbody>\n",
       "    <tr>\n",
       "      <th>0</th>\n",
       "      <td>0.0721</td>\n",
       "      <td>0.1028</td>\n",
       "      <td>0.1326</td>\n",
       "      <td>0.2135</td>\n",
       "      <td>0.2714</td>\n",
       "      <td>0.3312</td>\n",
       "      <td>0.3751</td>\n",
       "      <td>0.3539</td>\n",
       "    </tr>\n",
       "    <tr>\n",
       "      <th>1</th>\n",
       "      <td>0.0655</td>\n",
       "      <td>0.1011</td>\n",
       "      <td>0.1427</td>\n",
       "      <td>0.2054</td>\n",
       "      <td>0.2700</td>\n",
       "      <td>0.3150</td>\n",
       "      <td>0.3950</td>\n",
       "      <td>0.3505</td>\n",
       "    </tr>\n",
       "    <tr>\n",
       "      <th>2</th>\n",
       "      <td>0.0735</td>\n",
       "      <td>0.0998</td>\n",
       "      <td>0.1544</td>\n",
       "      <td>0.2013</td>\n",
       "      <td>0.2732</td>\n",
       "      <td>0.3356</td>\n",
       "      <td>0.4051</td>\n",
       "      <td>0.3374</td>\n",
       "    </tr>\n",
       "    <tr>\n",
       "      <th>3</th>\n",
       "      <td>0.0601</td>\n",
       "      <td>0.0982</td>\n",
       "      <td>0.1482</td>\n",
       "      <td>0.2069</td>\n",
       "      <td>0.2792</td>\n",
       "      <td>0.3306</td>\n",
       "      <td>0.3964</td>\n",
       "      <td>0.3541</td>\n",
       "    </tr>\n",
       "  </tbody>\n",
       "</table>\n",
       "</div>"
      ],
      "text/plain": [
       "   B_1_1:  B_1_2:  B_1_3:  B_1_4:  B_1_5:  B_1_6:  B_1_7:  B_1_8:\n",
       "0  0.0721  0.1028  0.1326  0.2135  0.2714  0.3312  0.3751  0.3539\n",
       "1  0.0655  0.1011  0.1427  0.2054  0.2700  0.3150  0.3950  0.3505\n",
       "2  0.0735  0.0998  0.1544  0.2013  0.2732  0.3356  0.4051  0.3374\n",
       "3  0.0601  0.0982  0.1482  0.2069  0.2792  0.3306  0.3964  0.3541"
      ]
     },
     "execution_count": 56,
     "metadata": {},
     "output_type": "execute_result"
    }
   ],
   "source": [
    "B_1_meds=pd.DataFrame({\"B_1_1:\":i_1_1,\"B_1_2:\":i_1_2,\"B_1_3:\":i_1_3,\"B_1_4:\":i_1_4,\"B_1_5:\":i_1_5,\n",
    "             \"B_1_6:\":i_1_6,\"B_1_7:\":i_1_7,\"B_1_8:\":i_1_8} )\n",
    "B_1_meds"
   ]
  },
  {
   "cell_type": "code",
   "execution_count": 58,
   "metadata": {},
   "outputs": [
    {
     "data": {
      "text/html": [
       "<div>\n",
       "<style scoped>\n",
       "    .dataframe tbody tr th:only-of-type {\n",
       "        vertical-align: middle;\n",
       "    }\n",
       "\n",
       "    .dataframe tbody tr th {\n",
       "        vertical-align: top;\n",
       "    }\n",
       "\n",
       "    .dataframe thead th {\n",
       "        text-align: right;\n",
       "    }\n",
       "</style>\n",
       "<table border=\"1\" class=\"dataframe\">\n",
       "  <thead>\n",
       "    <tr style=\"text-align: right;\">\n",
       "      <th></th>\n",
       "      <th>B_2_1:</th>\n",
       "      <th>B_2_2:</th>\n",
       "      <th>B_2_3:</th>\n",
       "      <th>B_2_4:</th>\n",
       "      <th>B_1_5:</th>\n",
       "      <th>B_2_6:</th>\n",
       "      <th>B_2_7:</th>\n",
       "      <th>B_2_8:</th>\n",
       "    </tr>\n",
       "  </thead>\n",
       "  <tbody>\n",
       "    <tr>\n",
       "      <th>0</th>\n",
       "      <td>0.0355</td>\n",
       "      <td>0.0725</td>\n",
       "      <td>0.0864</td>\n",
       "      <td>0.0851</td>\n",
       "      <td>0.2714</td>\n",
       "      <td>0.1337</td>\n",
       "      <td>0.1205</td>\n",
       "      <td>0.1259</td>\n",
       "    </tr>\n",
       "    <tr>\n",
       "      <th>1</th>\n",
       "      <td>0.0326</td>\n",
       "      <td>0.0658</td>\n",
       "      <td>0.0680</td>\n",
       "      <td>0.0922</td>\n",
       "      <td>0.2700</td>\n",
       "      <td>0.1088</td>\n",
       "      <td>0.1195</td>\n",
       "      <td>0.1315</td>\n",
       "    </tr>\n",
       "    <tr>\n",
       "      <th>2</th>\n",
       "      <td>0.0580</td>\n",
       "      <td>0.0634</td>\n",
       "      <td>0.0658</td>\n",
       "      <td>0.1024</td>\n",
       "      <td>0.2732</td>\n",
       "      <td>0.1302</td>\n",
       "      <td>0.1126</td>\n",
       "      <td>0.1401</td>\n",
       "    </tr>\n",
       "    <tr>\n",
       "      <th>3</th>\n",
       "      <td>0.0556</td>\n",
       "      <td>0.0841</td>\n",
       "      <td>0.0648</td>\n",
       "      <td>0.1020</td>\n",
       "      <td>0.2792</td>\n",
       "      <td>0.1144</td>\n",
       "      <td>0.1210</td>\n",
       "      <td>0.1213</td>\n",
       "    </tr>\n",
       "  </tbody>\n",
       "</table>\n",
       "</div>"
      ],
      "text/plain": [
       "   B_2_1:  B_2_2:  B_2_3:  B_2_4:  B_1_5:  B_2_6:  B_2_7:  B_2_8:\n",
       "0  0.0355  0.0725  0.0864  0.0851  0.2714  0.1337  0.1205  0.1259\n",
       "1  0.0326  0.0658  0.0680  0.0922  0.2700  0.1088  0.1195  0.1315\n",
       "2  0.0580  0.0634  0.0658  0.1024  0.2732  0.1302  0.1126  0.1401\n",
       "3  0.0556  0.0841  0.0648  0.1020  0.2792  0.1144  0.1210  0.1213"
      ]
     },
     "execution_count": 58,
     "metadata": {},
     "output_type": "execute_result"
    }
   ],
   "source": [
    "B_2_meds=pd.DataFrame({\"B_2_1:\":i_2_1,\"B_2_2:\":i_2_2,\"B_2_3:\":i_2_3,\"B_2_4:\":i_2_4,\"B_1_5:\":i_1_5,\n",
    "             \"B_2_6:\":i_2_6,\"B_2_7:\":i_2_7,\"B_2_8:\":i_2_8} )\n",
    "B_2_meds"
   ]
  },
  {
   "cell_type": "code",
   "execution_count": 59,
   "metadata": {},
   "outputs": [
    {
     "data": {
      "text/html": [
       "<div>\n",
       "<style scoped>\n",
       "    .dataframe tbody tr th:only-of-type {\n",
       "        vertical-align: middle;\n",
       "    }\n",
       "\n",
       "    .dataframe tbody tr th {\n",
       "        vertical-align: top;\n",
       "    }\n",
       "\n",
       "    .dataframe thead th {\n",
       "        text-align: right;\n",
       "    }\n",
       "</style>\n",
       "<table border=\"1\" class=\"dataframe\">\n",
       "  <thead>\n",
       "    <tr style=\"text-align: right;\">\n",
       "      <th></th>\n",
       "      <th>B_3_1:</th>\n",
       "      <th>B_3_2:</th>\n",
       "      <th>B_3_3:</th>\n",
       "      <th>B_3_4:</th>\n",
       "      <th>B_3_5:</th>\n",
       "      <th>B_3_6:</th>\n",
       "      <th>B_3_7:</th>\n",
       "      <th>B_3_8:</th>\n",
       "    </tr>\n",
       "  </thead>\n",
       "  <tbody>\n",
       "    <tr>\n",
       "      <th>0</th>\n",
       "      <td>1.7759</td>\n",
       "      <td>2.7167</td>\n",
       "      <td>3.5370</td>\n",
       "      <td>5.0448</td>\n",
       "      <td>6.0773</td>\n",
       "      <td>6.5988</td>\n",
       "      <td>8.1829</td>\n",
       "      <td>8.7098</td>\n",
       "    </tr>\n",
       "    <tr>\n",
       "      <th>1</th>\n",
       "      <td>1.7829</td>\n",
       "      <td>2.7217</td>\n",
       "      <td>3.5287</td>\n",
       "      <td>5.0549</td>\n",
       "      <td>6.0894</td>\n",
       "      <td>6.5749</td>\n",
       "      <td>8.1810</td>\n",
       "      <td>8.6831</td>\n",
       "    </tr>\n",
       "    <tr>\n",
       "      <th>2</th>\n",
       "      <td>1.7716</td>\n",
       "      <td>2.7225</td>\n",
       "      <td>3.5298</td>\n",
       "      <td>5.0444</td>\n",
       "      <td>6.0931</td>\n",
       "      <td>6.5704</td>\n",
       "      <td>8.1726</td>\n",
       "      <td>8.6556</td>\n",
       "    </tr>\n",
       "    <tr>\n",
       "      <th>3</th>\n",
       "      <td>1.7756</td>\n",
       "      <td>2.7364</td>\n",
       "      <td>3.5269</td>\n",
       "      <td>5.0605</td>\n",
       "      <td>6.0983</td>\n",
       "      <td>6.5690</td>\n",
       "      <td>8.1705</td>\n",
       "      <td>8.6579</td>\n",
       "    </tr>\n",
       "  </tbody>\n",
       "</table>\n",
       "</div>"
      ],
      "text/plain": [
       "   B_3_1:  B_3_2:  B_3_3:  B_3_4:  B_3_5:  B_3_6:  B_3_7:  B_3_8:\n",
       "0  1.7759  2.7167  3.5370  5.0448  6.0773  6.5988  8.1829  8.7098\n",
       "1  1.7829  2.7217  3.5287  5.0549  6.0894  6.5749  8.1810  8.6831\n",
       "2  1.7716  2.7225  3.5298  5.0444  6.0931  6.5704  8.1726  8.6556\n",
       "3  1.7756  2.7364  3.5269  5.0605  6.0983  6.5690  8.1705  8.6579"
      ]
     },
     "execution_count": 59,
     "metadata": {},
     "output_type": "execute_result"
    }
   ],
   "source": [
    "B_3_meds=pd.DataFrame({\"B_3_1:\":i_3_1,\"B_3_2:\":i_3_2,\"B_3_3:\":i_3_3,\"B_3_4:\":i_3_4,\"B_3_5:\":i_3_5,\n",
    "             \"B_3_6:\":i_3_6,\"B_3_7:\":i_3_7,\"B_3_8:\":i_3_8} )\n",
    "B_3_meds"
   ]
  },
  {
   "cell_type": "code",
   "execution_count": 74,
   "metadata": {},
   "outputs": [
    {
     "data": {
      "text/html": [
       "<div>\n",
       "<style scoped>\n",
       "    .dataframe tbody tr th:only-of-type {\n",
       "        vertical-align: middle;\n",
       "    }\n",
       "\n",
       "    .dataframe tbody tr th {\n",
       "        vertical-align: top;\n",
       "    }\n",
       "\n",
       "    .dataframe thead th {\n",
       "        text-align: right;\n",
       "    }\n",
       "</style>\n",
       "<table border=\"1\" class=\"dataframe\">\n",
       "  <thead>\n",
       "    <tr style=\"text-align: right;\">\n",
       "      <th></th>\n",
       "      <th>B1</th>\n",
       "    </tr>\n",
       "  </thead>\n",
       "  <tbody>\n",
       "    <tr>\n",
       "      <th>B_1_1:</th>\n",
       "      <td>0.006206</td>\n",
       "    </tr>\n",
       "    <tr>\n",
       "      <th>B_1_2:</th>\n",
       "      <td>0.001952</td>\n",
       "    </tr>\n",
       "    <tr>\n",
       "      <th>B_1_3:</th>\n",
       "      <td>0.009247</td>\n",
       "    </tr>\n",
       "    <tr>\n",
       "      <th>B_1_4:</th>\n",
       "      <td>0.005070</td>\n",
       "    </tr>\n",
       "    <tr>\n",
       "      <th>B_1_5:</th>\n",
       "      <td>0.004051</td>\n",
       "    </tr>\n",
       "    <tr>\n",
       "      <th>B_1_6:</th>\n",
       "      <td>0.009013</td>\n",
       "    </tr>\n",
       "    <tr>\n",
       "      <th>B_1_7:</th>\n",
       "      <td>0.012680</td>\n",
       "    </tr>\n",
       "    <tr>\n",
       "      <th>B_1_8:</th>\n",
       "      <td>0.007892</td>\n",
       "    </tr>\n",
       "  </tbody>\n",
       "</table>\n",
       "</div>"
      ],
      "text/plain": [
       "              B1\n",
       "B_1_1:  0.006206\n",
       "B_1_2:  0.001952\n",
       "B_1_3:  0.009247\n",
       "B_1_4:  0.005070\n",
       "B_1_5:  0.004051\n",
       "B_1_6:  0.009013\n",
       "B_1_7:  0.012680\n",
       "B_1_8:  0.007892"
      ]
     },
     "execution_count": 74,
     "metadata": {},
     "output_type": "execute_result"
    }
   ],
   "source": [
    "Deltas_B1= pd.DataFrame({\"B1\": B_1_meds.std() })\n",
    "Deltas_B1"
   ]
  },
  {
   "cell_type": "code",
   "execution_count": 72,
   "metadata": {},
   "outputs": [
    {
     "data": {
      "text/html": [
       "<div>\n",
       "<style scoped>\n",
       "    .dataframe tbody tr th:only-of-type {\n",
       "        vertical-align: middle;\n",
       "    }\n",
       "\n",
       "    .dataframe tbody tr th {\n",
       "        vertical-align: top;\n",
       "    }\n",
       "\n",
       "    .dataframe thead th {\n",
       "        text-align: right;\n",
       "    }\n",
       "</style>\n",
       "<table border=\"1\" class=\"dataframe\">\n",
       "  <thead>\n",
       "    <tr style=\"text-align: right;\">\n",
       "      <th></th>\n",
       "      <th>B2</th>\n",
       "    </tr>\n",
       "  </thead>\n",
       "  <tbody>\n",
       "    <tr>\n",
       "      <th>B_2_1:</th>\n",
       "      <td>0.013224</td>\n",
       "    </tr>\n",
       "    <tr>\n",
       "      <th>B_2_2:</th>\n",
       "      <td>0.009271</td>\n",
       "    </tr>\n",
       "    <tr>\n",
       "      <th>B_2_3:</th>\n",
       "      <td>0.010188</td>\n",
       "    </tr>\n",
       "    <tr>\n",
       "      <th>B_2_4:</th>\n",
       "      <td>0.008344</td>\n",
       "    </tr>\n",
       "    <tr>\n",
       "      <th>B_1_5:</th>\n",
       "      <td>0.004051</td>\n",
       "    </tr>\n",
       "    <tr>\n",
       "      <th>B_2_6:</th>\n",
       "      <td>0.012054</td>\n",
       "    </tr>\n",
       "    <tr>\n",
       "      <th>B_2_7:</th>\n",
       "      <td>0.003917</td>\n",
       "    </tr>\n",
       "    <tr>\n",
       "      <th>B_2_8:</th>\n",
       "      <td>0.008091</td>\n",
       "    </tr>\n",
       "  </tbody>\n",
       "</table>\n",
       "</div>"
      ],
      "text/plain": [
       "              B2\n",
       "B_2_1:  0.013224\n",
       "B_2_2:  0.009271\n",
       "B_2_3:  0.010188\n",
       "B_2_4:  0.008344\n",
       "B_1_5:  0.004051\n",
       "B_2_6:  0.012054\n",
       "B_2_7:  0.003917\n",
       "B_2_8:  0.008091"
      ]
     },
     "execution_count": 72,
     "metadata": {},
     "output_type": "execute_result"
    }
   ],
   "source": [
    "Deltas_B2= pd.DataFrame({\"B2\": B_2_meds.std() })\n",
    "Deltas_B2"
   ]
  },
  {
   "cell_type": "code",
   "execution_count": 73,
   "metadata": {},
   "outputs": [
    {
     "data": {
      "text/html": [
       "<div>\n",
       "<style scoped>\n",
       "    .dataframe tbody tr th:only-of-type {\n",
       "        vertical-align: middle;\n",
       "    }\n",
       "\n",
       "    .dataframe tbody tr th {\n",
       "        vertical-align: top;\n",
       "    }\n",
       "\n",
       "    .dataframe thead th {\n",
       "        text-align: right;\n",
       "    }\n",
       "</style>\n",
       "<table border=\"1\" class=\"dataframe\">\n",
       "  <thead>\n",
       "    <tr style=\"text-align: right;\">\n",
       "      <th></th>\n",
       "      <th>B3</th>\n",
       "    </tr>\n",
       "  </thead>\n",
       "  <tbody>\n",
       "    <tr>\n",
       "      <th>B_3_1:</th>\n",
       "      <td>0.004695</td>\n",
       "    </tr>\n",
       "    <tr>\n",
       "      <th>B_3_2:</th>\n",
       "      <td>0.008449</td>\n",
       "    </tr>\n",
       "    <tr>\n",
       "      <th>B_3_3:</th>\n",
       "      <td>0.004431</td>\n",
       "    </tr>\n",
       "    <tr>\n",
       "      <th>B_3_4:</th>\n",
       "      <td>0.007903</td>\n",
       "    </tr>\n",
       "    <tr>\n",
       "      <th>B_3_5:</th>\n",
       "      <td>0.008930</td>\n",
       "    </tr>\n",
       "    <tr>\n",
       "      <th>B_3_6:</th>\n",
       "      <td>0.013913</td>\n",
       "    </tr>\n",
       "    <tr>\n",
       "      <th>B_3_7:</th>\n",
       "      <td>0.006115</td>\n",
       "    </tr>\n",
       "    <tr>\n",
       "      <th>B_3_8:</th>\n",
       "      <td>0.025398</td>\n",
       "    </tr>\n",
       "  </tbody>\n",
       "</table>\n",
       "</div>"
      ],
      "text/plain": [
       "              B3\n",
       "B_3_1:  0.004695\n",
       "B_3_2:  0.008449\n",
       "B_3_3:  0.004431\n",
       "B_3_4:  0.007903\n",
       "B_3_5:  0.008930\n",
       "B_3_6:  0.013913\n",
       "B_3_7:  0.006115\n",
       "B_3_8:  0.025398"
      ]
     },
     "execution_count": 73,
     "metadata": {},
     "output_type": "execute_result"
    }
   ],
   "source": [
    "Deltas_B3= pd.DataFrame({\"B3\": B_3_meds.std() })\n",
    "Deltas_B3"
   ]
  },
  {
   "cell_type": "code",
   "execution_count": 121,
   "metadata": {},
   "outputs": [],
   "source": [
    "def delta_mu_a(I,r,db):\n",
    "    du = (s*np.pi*r)*db/I #Estoy ignorando la resolución del medidor de la corriente (discutir)\n",
    "    return du\n",
    "\n",
    "def delta_mu_b(rho,I,db): \n",
    "    du = db/rho*I #Estoy ignorando la resolución del medidor de la corriente (discutir)\n",
    "    return du\n",
    "    "
   ]
  },
  {
   "cell_type": "code",
   "execution_count": 182,
   "metadata": {},
   "outputs": [],
   "source": [
    "du_1 = [] #desviaciones de miu en el conductor rectilíneo\n",
    "for i in range(0,8):\n",
    "    k = np.round(delta_mu_a(I_1[i], L, Deltas_B1.iloc[i,0]),14)\n",
    "    du_1.append(k)\n",
    "    \n",
    "du_2 = []\n",
    "for i in range(0,8):\n",
    "    k = np.round(delta_mu_a(I_2[i], L, Deltas_B2.iloc[i,0]),14)\n",
    "    du_2.append(k)\n",
    "    \n",
    "du_3 = []\n",
    "for i in range(0,8):\n",
    "    k = np.round(delta_mu_b(D,I_3[i], Deltas_B3.iloc[i,0]),14)\n",
    "    du_3.append(k)"
   ]
  },
  {
   "cell_type": "code",
   "execution_count": 187,
   "metadata": {},
   "outputs": [
    {
     "data": {
      "text/html": [
       "<div>\n",
       "<style scoped>\n",
       "    .dataframe tbody tr th:only-of-type {\n",
       "        vertical-align: middle;\n",
       "    }\n",
       "\n",
       "    .dataframe tbody tr th {\n",
       "        vertical-align: top;\n",
       "    }\n",
       "\n",
       "    .dataframe thead th {\n",
       "        text-align: right;\n",
       "    }\n",
       "</style>\n",
       "<table border=\"1\" class=\"dataframe\">\n",
       "  <thead>\n",
       "    <tr style=\"text-align: right;\">\n",
       "      <th></th>\n",
       "      <th>Rectilíneo</th>\n",
       "      <th>Circular</th>\n",
       "      <th>Solenoide</th>\n",
       "    </tr>\n",
       "  </thead>\n",
       "  <tbody>\n",
       "    <tr>\n",
       "      <th>0</th>\n",
       "      <td>1.438000e-11</td>\n",
       "      <td>4.596000e-11</td>\n",
       "      <td>9.390776e-08</td>\n",
       "    </tr>\n",
       "    <tr>\n",
       "      <th>1</th>\n",
       "      <td>2.260000e-12</td>\n",
       "      <td>1.611000e-11</td>\n",
       "      <td>3.379684e-07</td>\n",
       "    </tr>\n",
       "    <tr>\n",
       "      <th>2</th>\n",
       "      <td>7.140000e-12</td>\n",
       "      <td>1.180000e-11</td>\n",
       "      <td>2.658571e-07</td>\n",
       "    </tr>\n",
       "    <tr>\n",
       "      <th>3</th>\n",
       "      <td>2.940000e-12</td>\n",
       "      <td>7.250000e-12</td>\n",
       "      <td>6.322362e-07</td>\n",
       "    </tr>\n",
       "    <tr>\n",
       "      <th>4</th>\n",
       "      <td>1.880000e-12</td>\n",
       "      <td>2.820000e-12</td>\n",
       "      <td>8.930239e-07</td>\n",
       "    </tr>\n",
       "    <tr>\n",
       "      <th>5</th>\n",
       "      <td>3.480000e-12</td>\n",
       "      <td>6.980000e-12</td>\n",
       "      <td>1.669550e-06</td>\n",
       "    </tr>\n",
       "    <tr>\n",
       "      <th>6</th>\n",
       "      <td>4.200000e-12</td>\n",
       "      <td>1.940000e-12</td>\n",
       "      <td>8.560631e-07</td>\n",
       "    </tr>\n",
       "    <tr>\n",
       "      <th>7</th>\n",
       "      <td>2.430000e-12</td>\n",
       "      <td>3.520000e-12</td>\n",
       "      <td>4.063685e-06</td>\n",
       "    </tr>\n",
       "  </tbody>\n",
       "</table>\n",
       "</div>"
      ],
      "text/plain": [
       "     Rectilíneo      Circular     Solenoide\n",
       "0  1.438000e-11  4.596000e-11  9.390776e-08\n",
       "1  2.260000e-12  1.611000e-11  3.379684e-07\n",
       "2  7.140000e-12  1.180000e-11  2.658571e-07\n",
       "3  2.940000e-12  7.250000e-12  6.322362e-07\n",
       "4  1.880000e-12  2.820000e-12  8.930239e-07\n",
       "5  3.480000e-12  6.980000e-12  1.669550e-06\n",
       "6  4.200000e-12  1.940000e-12  8.560631e-07\n",
       "7  2.430000e-12  3.520000e-12  4.063685e-06"
      ]
     },
     "execution_count": 187,
     "metadata": {},
     "output_type": "execute_result"
    }
   ],
   "source": [
    "Deltas_mu_1=pd.DataFrame({\"Rectilíneo\":du_1,\"Circular\":du_2,\"Solenoide\":du_3} )\n",
    "Deltas_mu_1"
   ]
  },
  {
   "cell_type": "code",
   "execution_count": 189,
   "metadata": {},
   "outputs": [
    {
     "data": {
      "text/html": [
       "<div>\n",
       "<style scoped>\n",
       "    .dataframe tbody tr th:only-of-type {\n",
       "        vertical-align: middle;\n",
       "    }\n",
       "\n",
       "    .dataframe tbody tr th {\n",
       "        vertical-align: top;\n",
       "    }\n",
       "\n",
       "    .dataframe thead th {\n",
       "        text-align: right;\n",
       "    }\n",
       "</style>\n",
       "<table border=\"1\" class=\"dataframe\">\n",
       "  <thead>\n",
       "    <tr style=\"text-align: right;\">\n",
       "      <th></th>\n",
       "      <th>Rectilíneo</th>\n",
       "      <th>Circular</th>\n",
       "      <th>Solenoide</th>\n",
       "    </tr>\n",
       "  </thead>\n",
       "  <tbody>\n",
       "    <tr>\n",
       "      <th>0</th>\n",
       "      <td>1.420000e-07</td>\n",
       "      <td>0.000006</td>\n",
       "      <td>3.553000e-08</td>\n",
       "    </tr>\n",
       "    <tr>\n",
       "      <th>1</th>\n",
       "      <td>1.052434e-07</td>\n",
       "      <td>0.000005</td>\n",
       "      <td>1.089720e-07</td>\n",
       "    </tr>\n",
       "    <tr>\n",
       "      <th>2</th>\n",
       "      <td>1.008800e-07</td>\n",
       "      <td>0.000003</td>\n",
       "      <td>2.118360e-07</td>\n",
       "    </tr>\n",
       "    <tr>\n",
       "      <th>3</th>\n",
       "      <td>1.082802e-07</td>\n",
       "      <td>0.000003</td>\n",
       "      <td>4.040960e-07</td>\n",
       "    </tr>\n",
       "    <tr>\n",
       "      <th>4</th>\n",
       "      <td>1.145634e-07</td>\n",
       "      <td>0.000003</td>\n",
       "      <td>6.089500e-07</td>\n",
       "    </tr>\n",
       "    <tr>\n",
       "      <th>5</th>\n",
       "      <td>1.145285e-07</td>\n",
       "      <td>0.000003</td>\n",
       "      <td>7.893960e-07</td>\n",
       "    </tr>\n",
       "    <tr>\n",
       "      <th>6</th>\n",
       "      <td>1.044206e-07</td>\n",
       "      <td>0.000002</td>\n",
       "      <td>1.144752e-06</td>\n",
       "    </tr>\n",
       "    <tr>\n",
       "      <th>7</th>\n",
       "      <td>1.092329e-07</td>\n",
       "      <td>0.000002</td>\n",
       "      <td>1.388256e-06</td>\n",
       "    </tr>\n",
       "  </tbody>\n",
       "</table>\n",
       "</div>"
      ],
      "text/plain": [
       "     Rectilíneo  Circular     Solenoide\n",
       "0  1.420000e-07  0.000006  3.553000e-08\n",
       "1  1.052434e-07  0.000005  1.089720e-07\n",
       "2  1.008800e-07  0.000003  2.118360e-07\n",
       "3  1.082802e-07  0.000003  4.040960e-07\n",
       "4  1.145634e-07  0.000003  6.089500e-07\n",
       "5  1.145285e-07  0.000003  7.893960e-07\n",
       "6  1.044206e-07  0.000002  1.144752e-06\n",
       "7  1.092329e-07  0.000002  1.388256e-06"
      ]
     },
     "execution_count": 189,
     "metadata": {},
     "output_type": "execute_result"
    }
   ],
   "source": [
    "mus = pd.DataFrame({\"Rectilíneo\":mu_1, \"Circular\":mu_2,\"Solenoide\":mu_3}) #Deltas por progamación de errores\n",
    "mus"
   ]
  },
  {
   "cell_type": "code",
   "execution_count": null,
   "metadata": {},
   "outputs": [],
   "source": []
  }
 ],
 "metadata": {
  "kernelspec": {
   "display_name": "Python 3",
   "language": "python",
   "name": "python3"
  },
  "language_info": {
   "codemirror_mode": {
    "name": "ipython",
    "version": 3
   },
   "file_extension": ".py",
   "mimetype": "text/x-python",
   "name": "python",
   "nbconvert_exporter": "python",
   "pygments_lexer": "ipython3",
   "version": "3.8.10"
  }
 },
 "nbformat": 4,
 "nbformat_minor": 4
}
