{
 "cells": [
  {
   "cell_type": "markdown",
   "metadata": {},
   "source": [
    "# Laboratorio: Campo Magnético "
   ]
  },
  {
   "cell_type": "code",
   "execution_count": 2,
   "metadata": {},
   "outputs": [],
   "source": [
    "import numpy as np\n",
    "import matplotlib.pyplot as plt\n",
    "import seaborn as sns\n",
    "import pandas as pd"
   ]
  },
  {
   "cell_type": "code",
   "execution_count": 43,
   "metadata": {},
   "outputs": [],
   "source": [
    "L = 0.0005 #Distancia en conductor rectilíneo\n",
    "R = 0.02172 #Radio en espira circular\n",
    "D = 5000 #Densidad de espiras en solenoide\n",
    "\n",
    "mu_teor = 1.2566e-6"
   ]
  },
  {
   "cell_type": "code",
   "execution_count": 4,
   "metadata": {},
   "outputs": [],
   "source": [
    "#Valores de campo magnético\n",
    "\n",
    "B_1 = [0.0678, 0.1005,0.1445,0.2068,0.2735,0.3281,0.3490, 0.3929]\n",
    "\n",
    "B_2 = [0.0454,0.0715,0.0713,0.0954,0.0949,0.1218, 0.1184,0.1297]\n",
    "\n",
    "B_3 = [1.7765,2.7243,3.5306,5.0512,6.0895,6.5783,8.1768,8.6766]"
   ]
  },
  {
   "cell_type": "code",
   "execution_count": 5,
   "metadata": {},
   "outputs": [],
   "source": [
    "#Valores de corriente\n",
    "\n",
    "I_1 = [1.5,3,4.5,6,7.5,9,10.5,11.3]\n",
    "\n",
    "I_2 = [1,2,3,4,5,6,7,8]\n",
    "\n",
    "I_3 = [1,2,3,4,5,6,7,8]\n",
    " "
   ]
  },
  {
   "cell_type": "code",
   "execution_count": 6,
   "metadata": {},
   "outputs": [
    {
     "data": {
      "text/html": [
       "<div>\n",
       "<style scoped>\n",
       "    .dataframe tbody tr th:only-of-type {\n",
       "        vertical-align: middle;\n",
       "    }\n",
       "\n",
       "    .dataframe tbody tr th {\n",
       "        vertical-align: top;\n",
       "    }\n",
       "\n",
       "    .dataframe thead th {\n",
       "        text-align: right;\n",
       "    }\n",
       "</style>\n",
       "<table border=\"1\" class=\"dataframe\">\n",
       "  <thead>\n",
       "    <tr style=\"text-align: right;\">\n",
       "      <th></th>\n",
       "      <th>Config 1</th>\n",
       "      <th>Corriente 1</th>\n",
       "      <th>Config 2</th>\n",
       "      <th>Corriente 2</th>\n",
       "      <th>Config 3</th>\n",
       "      <th>Corriente 3</th>\n",
       "    </tr>\n",
       "  </thead>\n",
       "  <tbody>\n",
       "    <tr>\n",
       "      <th>0</th>\n",
       "      <td>0.0678</td>\n",
       "      <td>1.5</td>\n",
       "      <td>0.0454</td>\n",
       "      <td>1</td>\n",
       "      <td>1.7765</td>\n",
       "      <td>1</td>\n",
       "    </tr>\n",
       "    <tr>\n",
       "      <th>1</th>\n",
       "      <td>0.1005</td>\n",
       "      <td>3.0</td>\n",
       "      <td>0.0715</td>\n",
       "      <td>2</td>\n",
       "      <td>2.7243</td>\n",
       "      <td>2</td>\n",
       "    </tr>\n",
       "    <tr>\n",
       "      <th>2</th>\n",
       "      <td>0.1445</td>\n",
       "      <td>4.5</td>\n",
       "      <td>0.0713</td>\n",
       "      <td>3</td>\n",
       "      <td>3.5306</td>\n",
       "      <td>3</td>\n",
       "    </tr>\n",
       "    <tr>\n",
       "      <th>3</th>\n",
       "      <td>0.2068</td>\n",
       "      <td>6.0</td>\n",
       "      <td>0.0954</td>\n",
       "      <td>4</td>\n",
       "      <td>5.0512</td>\n",
       "      <td>4</td>\n",
       "    </tr>\n",
       "    <tr>\n",
       "      <th>4</th>\n",
       "      <td>0.2735</td>\n",
       "      <td>7.5</td>\n",
       "      <td>0.0949</td>\n",
       "      <td>5</td>\n",
       "      <td>6.0895</td>\n",
       "      <td>5</td>\n",
       "    </tr>\n",
       "    <tr>\n",
       "      <th>5</th>\n",
       "      <td>0.3281</td>\n",
       "      <td>9.0</td>\n",
       "      <td>0.1218</td>\n",
       "      <td>6</td>\n",
       "      <td>6.5783</td>\n",
       "      <td>6</td>\n",
       "    </tr>\n",
       "    <tr>\n",
       "      <th>6</th>\n",
       "      <td>0.3490</td>\n",
       "      <td>10.5</td>\n",
       "      <td>0.1184</td>\n",
       "      <td>7</td>\n",
       "      <td>8.1768</td>\n",
       "      <td>7</td>\n",
       "    </tr>\n",
       "    <tr>\n",
       "      <th>7</th>\n",
       "      <td>0.3929</td>\n",
       "      <td>11.3</td>\n",
       "      <td>0.1297</td>\n",
       "      <td>8</td>\n",
       "      <td>8.6766</td>\n",
       "      <td>8</td>\n",
       "    </tr>\n",
       "  </tbody>\n",
       "</table>\n",
       "</div>"
      ],
      "text/plain": [
       "   Config 1  Corriente 1  Config 2  Corriente 2  Config 3  Corriente 3\n",
       "0    0.0678          1.5    0.0454            1    1.7765            1\n",
       "1    0.1005          3.0    0.0715            2    2.7243            2\n",
       "2    0.1445          4.5    0.0713            3    3.5306            3\n",
       "3    0.2068          6.0    0.0954            4    5.0512            4\n",
       "4    0.2735          7.5    0.0949            5    6.0895            5\n",
       "5    0.3281          9.0    0.1218            6    6.5783            6\n",
       "6    0.3490         10.5    0.1184            7    8.1768            7\n",
       "7    0.3929         11.3    0.1297            8    8.6766            8"
      ]
     },
     "execution_count": 6,
     "metadata": {},
     "output_type": "execute_result"
    }
   ],
   "source": [
    "configs = pd.DataFrame({'Config 1':B_1,'Corriente 1':I_1,'Config 2':B_2,\n",
    "                        'Corriente 2':I_2, 'Config 3':B_3,'Corriente 3':I_3})\n",
    "configs"
   ]
  },
  {
   "cell_type": "code",
   "execution_count": 54,
   "metadata": {},
   "outputs": [
    {
     "name": "stdout",
     "output_type": "stream",
     "text": [
      "0.0341 0.0054\n",
      "Permeabilidad magnética considerando la pendiente: 1.0712830948741195e-06\n"
     ]
    },
    {
     "data": {
      "image/png": "[encoded data removed]",
      "text/plain": [
       "<Figure size 504x504 with 1 Axes>"
      ]
     },
     "metadata": {
      "needs_background": "light"
     },
     "output_type": "display_data"
    }
   ],
   "source": [
    "plt.figure(figsize=(7,7))\n",
    "sns.regplot(x=configs.values[:,1],y=configs.values[:,0], data = configs, label = \"Regresión Lineal\" )\n",
    "\n",
    "slope, intercept = np.round(np.polyfit(configs.values[:,1], configs.values[:,0], 1),4)\n",
    "plt.legend(fontsize=14)\n",
    "print(slope, intercept)\n",
    "\n",
    "plt.grid(alpha=.6)\n",
    "plt.legend(fontsize=14)\n",
    "plt.title(\"Campo magnético en función de la corriente eléctrica\", size=18)\n",
    "plt.text(1.4, 0.3,r\"$B = 0.0341*I + 0.0054$\", size=14, bbox={\"boxstyle\" : \"round\", \"color\":\"powderblue\"})\n",
    "plt.xlabel('Corriente Eléctrica [A]', size=16)\n",
    "plt.ylabel('Campo Magnético [mT]', size=16)\n",
    "\n",
    "\n",
    "print(\"Permeabilidad magnética considerando la pendiente: \" + str(2*np.pi*slope*L*10e-3))\n"
   ]
  },
  {
   "cell_type": "code",
   "execution_count": 53,
   "metadata": {},
   "outputs": [
    {
     "name": "stdout",
     "output_type": "stream",
     "text": [
      "0.0116 0.0413\n",
      "Permeabilidad magnética considerando la pendiente: 5.03904e-06\n"
     ]
    },
    {
     "data": {
      "image/png": "[encoded data removed]",
      "text/plain": [
       "<Figure size 504x504 with 1 Axes>"
      ]
     },
     "metadata": {
      "needs_background": "light"
     },
     "output_type": "display_data"
    }
   ],
   "source": [
    "plt.figure(figsize=(7,7))\n",
    "sns.regplot(x=configs.values[:,3],y=configs.values[:,2], data = configs, label='Regresión Lineal')\n",
    "\n",
    "slope, intercept = np.round(np.polyfit(configs.values[:,3], configs.values[:,2], 1),4)\n",
    "\n",
    "plt.legend(fontsize=14)\n",
    "print(slope, intercept)\n",
    "\n",
    "plt.grid(alpha=.6)\n",
    "plt.legend(fontsize=14)\n",
    "plt.title(\"Campo magnético en función de la corriente eléctrica\", size=18)\n",
    "plt.text(1.2, 0.13,r\"$B = 0.0116*I - 0.0413$\", size=14, bbox={\"boxstyle\" : \"round\", \"color\":\"powderblue\"})\n",
    "plt.xlabel('Corriente Eléctrica [A]', size=16)\n",
    "plt.ylabel('Campo Magnético [mT]', size=16)\n",
    "\n",
    "print(\"Permeabilidad magnética considerando la pendiente: \" + str(2*slope*R*10e-3))"
   ]
  },
  {
   "cell_type": "code",
   "execution_count": 52,
   "metadata": {},
   "outputs": [
    {
     "name": "stdout",
     "output_type": "stream",
     "text": [
      "1.0208 0.732\n",
      "Permeabilidad magnética considerando la pendiente: 2.0416e-06\n"
     ]
    },
    {
     "data": {
      "image/png": "[encoded data removed]",
      "text/plain": [
       "<Figure size 504x504 with 1 Axes>"
      ]
     },
     "metadata": {
      "needs_background": "light"
     },
     "output_type": "display_data"
    }
   ],
   "source": [
    "plt.figure(figsize=(7,7))\n",
    "sns.regplot(x=configs.values[:,5],y=configs.values[:,4], data = configs, label='Regresión Lineal' )\n",
    "\n",
    "slope, intercept = np.round(np.polyfit(configs.values[:,5], configs.values[:,4], 1),4)\n",
    "print(slope, intercept)\n",
    "\n",
    "plt.legend(fontsize=14)\n",
    "\n",
    "plt.grid(alpha=.6)\n",
    "plt.legend(fontsize=14)\n",
    "plt.title(\"Campo magnético en función de la corriente eléctrica\", size=18)\n",
    "plt.text(1, 8,r\"$B = 1.0208*I + 0.732$\", size=14, bbox={\"boxstyle\" : \"round\", \"color\":\"powderblue\"})\n",
    "plt.xlabel('Corriente Eléctrica [A]', size=16)\n",
    "plt.ylabel('Campo Magnético [mT]', size=16)\n",
    "\n",
    "print(\"Permeabilidad magnética considerando la pendiente: \" + str(slope/D*10e-3))"
   ]
  },
  {
   "cell_type": "code",
   "execution_count": 92,
   "metadata": {},
   "outputs": [],
   "source": [
    "# Campo magnético de espira rectilinea\n",
    "def m(I,B,r):\n",
    "    mu = (2 * np.pi * r * B*(10)**-3) / I\n",
    "    return mu\n",
    "\n",
    "#Campo magnético de espira circular\n",
    "def m2(I,B,r):\n",
    "    mu = (2 * r * B*(10)**-3) / I\n",
    "    return mu\n",
    "\n",
    "\n",
    "#Campo magnético del solenoide \n",
    "def f(I,B,rho):\n",
    "    mu = B*(10)**-3 / rho * I\n",
    "    return mu"
   ]
  },
  {
   "cell_type": "code",
   "execution_count": 11,
   "metadata": {},
   "outputs": [],
   "source": [
    "mu_1=[]\n",
    "mu_2=[]\n",
    "mu_3=[]\n",
    "\n",
    "for i in range(0,8):\n",
    "    l = m(I_1[i], B_1[i], L)\n",
    "    mu_1.append(l)\n",
    "\n",
    "for i in range(0,8):\n",
    "    s = m2(I_2[i], B_2[i], R)\n",
    "    mu_2.append(s)\n",
    "\n",
    "for i in range(0,8):\n",
    "    n = f(I_3[i],B_3[i],D)\n",
    "    mu_3.append(n)\n",
    "    "
   ]
  },
  {
   "cell_type": "code",
   "execution_count": 12,
   "metadata": {},
   "outputs": [],
   "source": [
    "i_1_1=[0.0721,0.0655,0.0735,0.0601]\n",
    "i_1_2=[0.1028,0.1011,0.0998,0.0982]\n",
    "i_1_3=[0.1326,0.1427,0.1544,0.1482]\n",
    "i_1_4=[0.2135,0.2054,0.2013,0.2069]\n",
    "i_1_5=[0.2714,0.2700,0.2732,0.2792]\n",
    "i_1_6=[0.3312,0.3150,0.3356,0.3306]\n",
    "i_1_7=[0.3751,0.3950,0.4051,0.3964]\n",
    "i_1_8=[0.3539,0.3505,0.3374,0.3541]\n",
    "\n",
    "\n",
    "i_2_1=[0.0355,0.0326,0.0580,0.0556]\n",
    "i_2_2=[0.0725,0.0658,0.0634,0.0841]\n",
    "i_2_3=[0.0864,0.0680,0.0658,0.0648]\n",
    "i_2_4=[0.0851,0.0922,0.1024,0.1020]\n",
    "i_2_5=[0.0848,0.0842,0.1019,0.1087]\n",
    "i_2_6=[0.1337,0.1088,0.1302,0.1144]\n",
    "i_2_7=[0.1205,0.1195,0.1126,0.1210]\n",
    "i_2_8=[0.1259,0.1315,0.1401,0.1213]\n",
    "\n",
    "i_3_1=[1.7759,1.7829,1.7716,1.7756]\n",
    "i_3_2=[2.7167,2.7217,2.7225,2.7364]\n",
    "i_3_3=[3.5370,3.5287,3.5298,3.5269]\n",
    "i_3_4=[5.0448,5.0549,5.0444,5.0605]\n",
    "i_3_5=[6.0773,6.0894,6.0931,6.0983]\n",
    "i_3_6=[6.5988,6.5749,6.5704,6.5690]\n",
    "i_3_7=[8.1829,8.1810,8.1726,8.1705]\n",
    "i_3_8=[8.7098,8.6831,8.6556,8.6579]"
   ]
  },
  {
   "cell_type": "code",
   "execution_count": 97,
   "metadata": {},
   "outputs": [],
   "source": [
    "B_1_meds=pd.DataFrame({\"B_1_1:\":i_1_1,\"B_1_2:\":i_1_2,\"B_1_3:\":i_1_3,\"B_1_4:\":i_1_4,\"B_1_5:\":i_1_5,\n",
    "             \"B_1_6:\":i_1_6,\"B_1_7:\":i_1_7,\"B_1_8:\":i_1_8})\n",
    "\n",
    "B_2_meds=pd.DataFrame({\"B_2_1:\":i_2_1,\"B_2_2:\":i_2_2,\"B_2_3:\":i_2_3,\"B_2_4:\":i_2_4,\"B_1_5:\":i_1_5,\n",
    "             \"B_2_6:\":i_2_6,\"B_2_7:\":i_2_7,\"B_2_8:\":i_2_8})\n",
    "\n",
    "B_3_meds=pd.DataFrame({\"B_3_1:\":i_3_1,\"B_3_2:\":i_3_2,\"B_3_3:\":i_3_3,\"B_3_4:\":i_3_4,\"B_3_5:\":i_3_5,\n",
    "             \"B_3_6:\":i_3_6,\"B_3_7:\":i_3_7,\"B_3_8:\":i_3_8})\n"
   ]
  },
  {
   "cell_type": "code",
   "execution_count": 101,
   "metadata": {},
   "outputs": [],
   "source": [
    "Deltas_B1= pd.DataFrame({\"B1\": B_1_meds.std() })\n",
    "Deltas_B2= pd.DataFrame({\"B2\": B_2_meds.std() })\n",
    "Deltas_B3= pd.DataFrame({\"B3\": B_3_meds.std()})"
   ]
  },
  {
   "cell_type": "code",
   "execution_count": 102,
   "metadata": {},
   "outputs": [],
   "source": [
    "def delta_mu_a(I,r,B,dB):\n",
    "    du = ((2*np.pi*r)*dB/I) + (2*np.pi*r*B*0.001/(I**2)) #Estoy ignorando la resolución del medidor de la corriente (discutir)\n",
    "    return du\n",
    "\n",
    "def delta_mu_b(I,r,B,dB):\n",
    "    du = (2*r*dB/I) +(2*r*B*0.001/I**2)\n",
    "    return du\n",
    "\n",
    "def delta_mu_c(rho,I,B,dB): \n",
    "    du = (dB/rho*I) + (B*0.001/rho*(I**2)) #Se va a tomar una resolución de 0.001 [mA]\n",
    "    return du\n",
    "    "
   ]
  },
  {
   "cell_type": "code",
   "execution_count": 103,
   "metadata": {},
   "outputs": [],
   "source": [
    "du_1 = [] #desviaciones de miu en el conductor rectilíneo\n",
    "du_2 = [] #desviaciones de miu en espira circular\n",
    "du_3 = [] #desviaciones de miu en solenoide\n",
    "\n",
    "for i in range(0,8):\n",
    "    k = np.round(delta_mu_a(I_1[i], L, B_1[i], Deltas_B1.iloc[i,0]),14)\n",
    "    du_1.append(k)\n",
    "    k = np.round(delta_mu_b(I_2[i], R, B_2[i], Deltas_B2.iloc[i,0]),14)\n",
    "    du_2.append(k)\n",
    "    k = np.round(delta_mu_c(D,I_3[i], B_3[i], Deltas_B3.iloc[i,0]),14)\n",
    "    du_3.append(k)"
   ]
  },
  {
   "cell_type": "code",
   "execution_count": 105,
   "metadata": {},
   "outputs": [
    {
     "data": {
      "text/html": [
       "<div>\n",
       "<style scoped>\n",
       "    .dataframe tbody tr th:only-of-type {\n",
       "        vertical-align: middle;\n",
       "    }\n",
       "\n",
       "    .dataframe tbody tr th {\n",
       "        vertical-align: top;\n",
       "    }\n",
       "\n",
       "    .dataframe thead th {\n",
       "        text-align: right;\n",
       "    }\n",
       "</style>\n",
       "<table border=\"1\" class=\"dataframe\">\n",
       "  <thead>\n",
       "    <tr style=\"text-align: right;\">\n",
       "      <th></th>\n",
       "      <th>Rectilíneo</th>\n",
       "      <th>Circular</th>\n",
       "      <th>Solenoide</th>\n",
       "    </tr>\n",
       "  </thead>\n",
       "  <tbody>\n",
       "    <tr>\n",
       "      <th>0</th>\n",
       "      <td>0.000013</td>\n",
       "      <td>0.000576</td>\n",
       "      <td>0.000001</td>\n",
       "    </tr>\n",
       "    <tr>\n",
       "      <th>1</th>\n",
       "      <td>0.000002</td>\n",
       "      <td>0.000202</td>\n",
       "      <td>0.000006</td>\n",
       "    </tr>\n",
       "    <tr>\n",
       "      <th>2</th>\n",
       "      <td>0.000006</td>\n",
       "      <td>0.000148</td>\n",
       "      <td>0.000009</td>\n",
       "    </tr>\n",
       "    <tr>\n",
       "      <th>3</th>\n",
       "      <td>0.000003</td>\n",
       "      <td>0.000091</td>\n",
       "      <td>0.000022</td>\n",
       "    </tr>\n",
       "    <tr>\n",
       "      <th>4</th>\n",
       "      <td>0.000002</td>\n",
       "      <td>0.000035</td>\n",
       "      <td>0.000039</td>\n",
       "    </tr>\n",
       "    <tr>\n",
       "      <th>5</th>\n",
       "      <td>0.000003</td>\n",
       "      <td>0.000087</td>\n",
       "      <td>0.000064</td>\n",
       "    </tr>\n",
       "    <tr>\n",
       "      <th>6</th>\n",
       "      <td>0.000004</td>\n",
       "      <td>0.000024</td>\n",
       "      <td>0.000089</td>\n",
       "    </tr>\n",
       "    <tr>\n",
       "      <th>7</th>\n",
       "      <td>0.000002</td>\n",
       "      <td>0.000044</td>\n",
       "      <td>0.000152</td>\n",
       "    </tr>\n",
       "  </tbody>\n",
       "</table>\n",
       "</div>"
      ],
      "text/plain": [
       "   Rectilíneo  Circular  Solenoide\n",
       "0    0.000013  0.000576   0.000001\n",
       "1    0.000002  0.000202   0.000006\n",
       "2    0.000006  0.000148   0.000009\n",
       "3    0.000003  0.000091   0.000022\n",
       "4    0.000002  0.000035   0.000039\n",
       "5    0.000003  0.000087   0.000064\n",
       "6    0.000004  0.000024   0.000089\n",
       "7    0.000002  0.000044   0.000152"
      ]
     },
     "execution_count": 105,
     "metadata": {},
     "output_type": "execute_result"
    }
   ],
   "source": [
    "#Incertidumbre\n",
    "Deltas_mu_1=pd.DataFrame({\"Rectilíneo\":du_1,\"Circular\":du_2,\"Solenoide\":du_3} )\n",
    "Deltas_mu_1"
   ]
  },
  {
   "cell_type": "code",
   "execution_count": 106,
   "metadata": {},
   "outputs": [
    {
     "data": {
      "text/html": [
       "<div>\n",
       "<style scoped>\n",
       "    .dataframe tbody tr th:only-of-type {\n",
       "        vertical-align: middle;\n",
       "    }\n",
       "\n",
       "    .dataframe tbody tr th {\n",
       "        vertical-align: top;\n",
       "    }\n",
       "\n",
       "    .dataframe thead th {\n",
       "        text-align: right;\n",
       "    }\n",
       "</style>\n",
       "<table border=\"1\" class=\"dataframe\">\n",
       "  <thead>\n",
       "    <tr style=\"text-align: right;\">\n",
       "      <th></th>\n",
       "      <th>Rectilíneo</th>\n",
       "      <th>Circular</th>\n",
       "      <th>Solenoide</th>\n",
       "    </tr>\n",
       "  </thead>\n",
       "  <tbody>\n",
       "    <tr>\n",
       "      <th>0</th>\n",
       "      <td>1.420000e-07</td>\n",
       "      <td>1.972176e-06</td>\n",
       "      <td>3.553000e-07</td>\n",
       "    </tr>\n",
       "    <tr>\n",
       "      <th>1</th>\n",
       "      <td>1.052434e-07</td>\n",
       "      <td>1.552980e-06</td>\n",
       "      <td>1.089720e-06</td>\n",
       "    </tr>\n",
       "    <tr>\n",
       "      <th>2</th>\n",
       "      <td>1.008800e-07</td>\n",
       "      <td>1.032424e-06</td>\n",
       "      <td>2.118360e-06</td>\n",
       "    </tr>\n",
       "    <tr>\n",
       "      <th>3</th>\n",
       "      <td>1.082802e-07</td>\n",
       "      <td>1.036044e-06</td>\n",
       "      <td>4.040960e-06</td>\n",
       "    </tr>\n",
       "    <tr>\n",
       "      <th>4</th>\n",
       "      <td>1.145634e-07</td>\n",
       "      <td>8.244912e-07</td>\n",
       "      <td>6.089500e-06</td>\n",
       "    </tr>\n",
       "    <tr>\n",
       "      <th>5</th>\n",
       "      <td>1.145285e-07</td>\n",
       "      <td>8.818320e-07</td>\n",
       "      <td>7.893960e-06</td>\n",
       "    </tr>\n",
       "    <tr>\n",
       "      <th>6</th>\n",
       "      <td>1.044206e-07</td>\n",
       "      <td>7.347566e-07</td>\n",
       "      <td>1.144752e-05</td>\n",
       "    </tr>\n",
       "    <tr>\n",
       "      <th>7</th>\n",
       "      <td>1.092329e-07</td>\n",
       "      <td>7.042710e-07</td>\n",
       "      <td>1.388256e-05</td>\n",
       "    </tr>\n",
       "  </tbody>\n",
       "</table>\n",
       "</div>"
      ],
      "text/plain": [
       "     Rectilíneo      Circular     Solenoide\n",
       "0  1.420000e-07  1.972176e-06  3.553000e-07\n",
       "1  1.052434e-07  1.552980e-06  1.089720e-06\n",
       "2  1.008800e-07  1.032424e-06  2.118360e-06\n",
       "3  1.082802e-07  1.036044e-06  4.040960e-06\n",
       "4  1.145634e-07  8.244912e-07  6.089500e-06\n",
       "5  1.145285e-07  8.818320e-07  7.893960e-06\n",
       "6  1.044206e-07  7.347566e-07  1.144752e-05\n",
       "7  1.092329e-07  7.042710e-07  1.388256e-05"
      ]
     },
     "execution_count": 106,
     "metadata": {},
     "output_type": "execute_result"
    }
   ],
   "source": [
    "#Valores\n",
    "mus = pd.DataFrame({\"Rectilíneo\":mu_1, \"Circular\":mu_2,\"Solenoide\":mu_3}) #Deltas por progamación de errores\n",
    "mus"
   ]
  },
  {
   "cell_type": "code",
   "execution_count": 107,
   "metadata": {},
   "outputs": [
    {
     "name": "stdout",
     "output_type": "stream",
     "text": [
      "Configuración alambre rectilíneo: 1.1239362142260987e-07\n",
      "Configuración espira circular: 1.0923718464285716e-06\n",
      "Configuración solenoide: 5.864735000000001e-06\n"
     ]
    }
   ],
   "source": [
    "print('Configuración alambre rectilíneo: '+ str(np.mean(mu_1) ))\n",
    "print('Configuración espira circular: '+ str(np.mean(mu_2)))\n",
    "print('Configuración solenoide: '+ str(np.mean(mu_3)))"
   ]
  },
  {
   "cell_type": "code",
   "execution_count": 108,
   "metadata": {},
   "outputs": [
    {
     "name": "stdout",
     "output_type": "stream",
     "text": [
      "Error en Configuración alambre rectilíneo: 1.2041447770555807e-08\n",
      "Error en Configuración espira circular: 4.164702585314133e-07\n",
      "Error en Configuración solenoide: 4.6116347786522516e-06\n"
     ]
    }
   ],
   "source": [
    "print('Error en Configuración alambre rectilíneo: '+ str(np.std(mu_1) ))\n",
    "print('Error en Configuración espira circular: '+ str(np.std(mu_2)))\n",
    "print('Error en Configuración solenoide: '+ str(np.std(mu_3)))"
   ]
  },
  {
   "cell_type": "code",
   "execution_count": 113,
   "metadata": {},
   "outputs": [
    {
     "name": "stdout",
     "output_type": "stream",
     "text": [
      "Coeficiente de varianza en rectilineo: 0.10713639811710407\n",
      "Coeficiente de varianza en circular: 0.38125319678736846\n",
      "Coeficiente de varianza en solenoide: 0.7863330190796772\n"
     ]
    }
   ],
   "source": [
    "#Coeficiente de varianza\n",
    "def CV(a,b):\n",
    "    s = a/b\n",
    "    return s\n",
    "\n",
    "CV_1 = CV(np.std(mu_1),np.mean(mu_1))\n",
    "CV_2 = CV(np.std(mu_2),np.mean(mu_2))\n",
    "CV_3 = CV(np.std(mu_3),np.mean(mu_3))\n",
    "\n",
    "print('Coeficiente de varianza en rectilineo: ' + str(CV_1))\n",
    "print('Coeficiente de varianza en circular: '+str(CV_2))\n",
    "print('Coeficiente de varianza en solenoide: ' + str(CV_3))\n"
   ]
  },
  {
   "cell_type": "code",
   "execution_count": 118,
   "metadata": {},
   "outputs": [],
   "source": [
    "#Exactitud\n",
    "EX_1= np.mean(mu_1)/mu_teor\n",
    "EX_2 = np.mean(mu_2)/mu_teor\n",
    "EX_3 = np.mean(mu_3)/mu_teor\n"
   ]
  },
  {
   "cell_type": "code",
   "execution_count": 119,
   "metadata": {},
   "outputs": [
    {
     "name": "stdout",
     "output_type": "stream",
     "text": [
      "Coeficiente de varianza en rectilineo: 0.10713639811710407\n",
      "Coeficiente de varianza en circular: 0.38125319678736846\n",
      "Coeficiente de varianza en solenoide: 0.7863330190796772\n",
      "\n",
      "\n",
      "Exactitud en rectilíneo: 0.08944263999889374\n",
      "Exactitud en circular: 0.8693075333666812\n",
      "Exactitud en solenoide: 4.6671454719083245\n"
     ]
    }
   ],
   "source": [
    "print('Coeficiente de varianza en rectilineo: ' + str(CV_1))\n",
    "print('Coeficiente de varianza en circular: '+str(CV_2))\n",
    "print('Coeficiente de varianza en solenoide: ' + str(CV_3))\n",
    "print('\\n')\n",
    "print('Exactitud en rectilíneo: ' + str(EX_1))\n",
    "print('Exactitud en circular: ' + str(EX_2))\n",
    "print('Exactitud en solenoide: ' + str(EX_3))"
   ]
  },
  {
   "cell_type": "code",
   "execution_count": null,
   "metadata": {},
   "outputs": [],
   "source": []
  }
 ],
 "metadata": {
  "kernelspec": {
   "display_name": "Python 3",
   "language": "python",
   "name": "python3"
  },
  "language_info": {
   "codemirror_mode": {
    "name": "ipython",
    "version": 3
   },
   "file_extension": ".py",
   "mimetype": "text/x-python",
   "name": "python",
   "nbconvert_exporter": "python",
   "pygments_lexer": "ipython3",
   "version": "3.8.5"
  }
 },
 "nbformat": 4,
 "nbformat_minor": 4
}
