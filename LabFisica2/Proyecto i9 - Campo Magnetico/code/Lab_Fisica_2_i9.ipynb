{
 "cells": [
  {
   "cell_type": "code",
   "execution_count": 28,
   "metadata": {},
   "outputs": [
    {
     "name": "stderr",
     "output_type": "stream",
     "text": [
      "/home/hogar/.local/lib/python3.8/site-packages/pandas/core/computation/expressions.py:20: UserWarning: Pandas requires version '2.7.3' or newer of 'numexpr' (version '2.7.1' currently installed).\n",
      "  from pandas.core.computation.check import NUMEXPR_INSTALLED\n"
     ]
    }
   ],
   "source": [
    "import numpy as np\n",
    "import matplotlib.pyplot as plt\n",
    "import seaborn as sns"
   ]
  },
  {
   "cell_type": "code",
   "execution_count": 16,
   "metadata": {},
   "outputs": [],
   "source": [
    "#Valores de campo magnético\n",
    "\n",
    "B_1 = [0.0678, 0.1005,0.1445,0.2068,0.2735,0.3281,0.3490, 0.3929]\n",
    "\n",
    "B_2 = [0.0454,0.0715,0.0713,0.0954,0.0949,0.1218, 0.1184,0.1297]\n",
    "\n",
    "B_3 = [1.7765,2.7243,3.5306,5.0512,6.0895,6.5783,8.1768,8.6766]"
   ]
  },
  {
   "cell_type": "code",
   "execution_count": 17,
   "metadata": {},
   "outputs": [],
   "source": [
    "#Valores de corriente\n",
    "\n",
    "I_1 = [1.5,3,4.5,6,7.5,9,10.5,11.3]\n",
    "\n",
    "I_2 = [1,2,3,4,5,6,7,8]\n",
    "\n",
    "I_3 = [0.1,0.2,0.3,0.4,0.5,0.6,0.7,0.8]\n",
    " "
   ]
  },
  {
   "cell_type": "code",
   "execution_count": 22,
   "metadata": {},
   "outputs": [
    {
     "data": {
      "text/plain": [
       "<matplotlib.collections.PathCollection at 0x7f9d2b511460>"
      ]
     },
     "execution_count": 22,
     "metadata": {},
     "output_type": "execute_result"
    },
    {
     "data": {
      "image/png": "[encoded data removed]",
      "text/plain": [
       "<Figure size 432x288 with 1 Axes>"
      ]
     },
     "metadata": {
      "needs_background": "light"
     },
     "output_type": "display_data"
    }
   ],
   "source": [
    "plt.scatter(I_1,B_1)"
   ]
  },
  {
   "cell_type": "code",
   "execution_count": 25,
   "metadata": {},
   "outputs": [
    {
     "data": {
      "text/plain": [
       "<matplotlib.collections.PathCollection at 0x7f9d2b42ceb0>"
      ]
     },
     "execution_count": 25,
     "metadata": {},
     "output_type": "execute_result"
    },
    {
     "data": {
      "image/png": "[encoded data removed]",
      "text/plain": [
       "<Figure size 432x288 with 1 Axes>"
      ]
     },
     "metadata": {
      "needs_background": "light"
     },
     "output_type": "display_data"
    }
   ],
   "source": [
    "plt.scatter(I_2,B_2)"
   ]
  },
  {
   "cell_type": "code",
   "execution_count": 78,
   "metadata": {},
   "outputs": [
    {
     "data": {
      "text/plain": [
       "<matplotlib.collections.PathCollection at 0x7f9d1bbcca00>"
      ]
     },
     "execution_count": 78,
     "metadata": {},
     "output_type": "execute_result"
    },
    {
     "data": {
      "image/png": "[encoded data removed]",
      "text/plain": [
       "<Figure size 432x288 with 1 Axes>"
      ]
     },
     "metadata": {
      "needs_background": "light"
     },
     "output_type": "display_data"
    }
   ],
   "source": [
    "plt.scatter(I_3,B_3)"
   ]
  },
  {
   "cell_type": "code",
   "execution_count": 100,
   "metadata": {},
   "outputs": [],
   "source": [
    "##### Campo magnético de espira rectilinea y circular\n",
    "def m(I,B,r):\n",
    "    mu = (2 * np.pi * r * B*(10)**-3) / I\n",
    "    return mu\n",
    "\n",
    "#Campo magnético del solenoide \n",
    "def f(I,B,rho):\n",
    "    mu = B*(10)**-3 / rho * I\n",
    "    return mu"
   ]
  },
  {
   "cell_type": "code",
   "execution_count": 102,
   "metadata": {},
   "outputs": [],
   "source": [
    "mu_1=[]\n",
    "mu_2=[]\n",
    "mu_3=[]\n",
    "\n",
    "for i in range(0,8):\n",
    "    l = m(I_1[i], B_1[i], 0.0005)\n",
    "    mu_1.append(l)\n",
    "\n",
    "for i in range(0,8):\n",
    "    s = m(I_2[i], B_2[i], 0.02172)\n",
    "    mu_2.append(s)\n",
    "\n",
    "for i in range(0,8):\n",
    "    n = f(I_3[i],B_3[i],5000)\n",
    "    mu_3.append(n)\n",
    "    "
   ]
  },
  {
   "cell_type": "code",
   "execution_count": 103,
   "metadata": {
    "scrolled": true
   },
   "outputs": [
    {
     "data": {
      "text/plain": [
       "[1.4199998794225867e-07,\n",
       " 1.0524335389525807e-07,\n",
       " 1.0088003076527225e-07,\n",
       " 1.0828022679372821e-07,\n",
       " 1.145634121009078e-07,\n",
       " 1.145285055158679e-07,\n",
       " 1.0442055581931789e-07,\n",
       " 1.0923289854826813e-07]"
      ]
     },
     "execution_count": 103,
     "metadata": {},
     "output_type": "execute_result"
    }
   ],
   "source": [
    "mu_1"
   ]
  },
  {
   "cell_type": "code",
   "execution_count": 104,
   "metadata": {},
   "outputs": [
    {
     "data": {
      "text/plain": [
       "[6.1957736331861046e-06,\n",
       " 4.878830559171877e-06,\n",
       " 3.243455653789789e-06,\n",
       " 3.2548282191957833e-06,\n",
       " 2.5902154968694332e-06,\n",
       " 2.7703569329003946e-06,\n",
       " 2.308305846976824e-06,\n",
       " 2.212532599736338e-06]"
      ]
     },
     "execution_count": 104,
     "metadata": {},
     "output_type": "execute_result"
    }
   ],
   "source": [
    "mu_2"
   ]
  },
  {
   "cell_type": "code",
   "execution_count": 105,
   "metadata": {},
   "outputs": [
    {
     "data": {
      "text/plain": [
       "[3.553e-08,\n",
       " 1.0897199999999999e-07,\n",
       " 2.11836e-07,\n",
       " 4.0409599999999997e-07,\n",
       " 6.0895e-07,\n",
       " 7.893959999999999e-07,\n",
       " 1.144752e-06,\n",
       " 1.3882560000000004e-06]"
      ]
     },
     "execution_count": 105,
     "metadata": {},
     "output_type": "execute_result"
    }
   ],
   "source": [
    "mu_3"
   ]
  },
  {
   "cell_type": "code",
   "execution_count": null,
   "metadata": {},
   "outputs": [],
   "source": []
  },
  {
   "cell_type": "code",
   "execution_count": null,
   "metadata": {},
   "outputs": [],
   "source": []
  }
 ],
 "metadata": {
  "kernelspec": {
   "display_name": "Python 3",
   "language": "python",
   "name": "python3"
  },
  "language_info": {
   "codemirror_mode": {
    "name": "ipython",
    "version": 3
   },
   "file_extension": ".py",
   "mimetype": "text/x-python",
   "name": "python",
   "nbconvert_exporter": "python",
   "pygments_lexer": "ipython3",
   "version": "3.8.5"
  }
 },
 "nbformat": 4,
 "nbformat_minor": 4
}
