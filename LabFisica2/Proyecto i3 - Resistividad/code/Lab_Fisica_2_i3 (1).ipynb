{
 "cells": [
  {
   "cell_type": "code",
   "execution_count": 1,
   "metadata": {},
   "outputs": [
    {
     "name": "stderr",
     "output_type": "stream",
     "text": [
      "/home/hogar/.local/lib/python3.8/site-packages/pandas/core/computation/expressions.py:20: UserWarning: Pandas requires version '2.7.3' or newer of 'numexpr' (version '2.7.1' currently installed).\n",
      "  from pandas.core.computation.check import NUMEXPR_INSTALLED\n"
     ]
    }
   ],
   "source": [
    "import numpy as np\n",
    "import matplotlib.pyplot as plt\n",
    "import seaborn as sns\n",
    "import pandas as pd"
   ]
  },
  {
   "cell_type": "code",
   "execution_count": 2,
   "metadata": {},
   "outputs": [],
   "source": [
    "rho_constan=4.9e-7 #Resistividad téorica del constantan\n",
    "rho_cromo=1.1e-6 #Resistividad teórica de cromo-niquel\n",
    "\n",
    "phi = 0.5e-3\n",
    "alpha = 0.35e-3"
   ]
  },
  {
   "cell_type": "code",
   "execution_count": 27,
   "metadata": {},
   "outputs": [
    {
     "data": {
      "text/html": [
       "<div>\n",
       "<style scoped>\n",
       "    .dataframe tbody tr th:only-of-type {\n",
       "        vertical-align: middle;\n",
       "    }\n",
       "\n",
       "    .dataframe tbody tr th {\n",
       "        vertical-align: top;\n",
       "    }\n",
       "\n",
       "    .dataframe thead th {\n",
       "        text-align: right;\n",
       "    }\n",
       "</style>\n",
       "<table border=\"1\" class=\"dataframe\">\n",
       "  <thead>\n",
       "    <tr style=\"text-align: right;\">\n",
       "      <th></th>\n",
       "      <th>Longitud</th>\n",
       "      <th>Resistencia</th>\n",
       "      <th>Voltaje</th>\n",
       "      <th>Corriente</th>\n",
       "    </tr>\n",
       "  </thead>\n",
       "  <tbody>\n",
       "    <tr>\n",
       "      <th>0</th>\n",
       "      <td>0.05</td>\n",
       "      <td>0.3</td>\n",
       "      <td>0.058</td>\n",
       "      <td>0.165</td>\n",
       "    </tr>\n",
       "    <tr>\n",
       "      <th>1</th>\n",
       "      <td>0.10</td>\n",
       "      <td>0.4</td>\n",
       "      <td>0.052</td>\n",
       "      <td>0.163</td>\n",
       "    </tr>\n",
       "    <tr>\n",
       "      <th>2</th>\n",
       "      <td>0.15</td>\n",
       "      <td>0.6</td>\n",
       "      <td>0.080</td>\n",
       "      <td>0.163</td>\n",
       "    </tr>\n",
       "    <tr>\n",
       "      <th>3</th>\n",
       "      <td>0.20</td>\n",
       "      <td>1.0</td>\n",
       "      <td>0.106</td>\n",
       "      <td>0.163</td>\n",
       "    </tr>\n",
       "    <tr>\n",
       "      <th>4</th>\n",
       "      <td>0.25</td>\n",
       "      <td>1.1</td>\n",
       "      <td>0.119</td>\n",
       "      <td>0.163</td>\n",
       "    </tr>\n",
       "    <tr>\n",
       "      <th>5</th>\n",
       "      <td>0.30</td>\n",
       "      <td>1.2</td>\n",
       "      <td>0.138</td>\n",
       "      <td>0.163</td>\n",
       "    </tr>\n",
       "    <tr>\n",
       "      <th>6</th>\n",
       "      <td>0.35</td>\n",
       "      <td>1.3</td>\n",
       "      <td>0.160</td>\n",
       "      <td>0.163</td>\n",
       "    </tr>\n",
       "    <tr>\n",
       "      <th>7</th>\n",
       "      <td>0.40</td>\n",
       "      <td>1.5</td>\n",
       "      <td>0.184</td>\n",
       "      <td>0.162</td>\n",
       "    </tr>\n",
       "    <tr>\n",
       "      <th>8</th>\n",
       "      <td>0.45</td>\n",
       "      <td>1.7</td>\n",
       "      <td>0.217</td>\n",
       "      <td>0.161</td>\n",
       "    </tr>\n",
       "    <tr>\n",
       "      <th>9</th>\n",
       "      <td>0.50</td>\n",
       "      <td>1.8</td>\n",
       "      <td>0.222</td>\n",
       "      <td>0.162</td>\n",
       "    </tr>\n",
       "  </tbody>\n",
       "</table>\n",
       "</div>"
      ],
      "text/plain": [
       "   Longitud  Resistencia  Voltaje  Corriente\n",
       "0      0.05          0.3    0.058      0.165\n",
       "1      0.10          0.4    0.052      0.163\n",
       "2      0.15          0.6    0.080      0.163\n",
       "3      0.20          1.0    0.106      0.163\n",
       "4      0.25          1.1    0.119      0.163\n",
       "5      0.30          1.2    0.138      0.163\n",
       "6      0.35          1.3    0.160      0.163\n",
       "7      0.40          1.5    0.184      0.162\n",
       "8      0.45          1.7    0.217      0.161\n",
       "9      0.50          1.8    0.222      0.162"
      ]
     },
     "execution_count": 27,
     "metadata": {},
     "output_type": "execute_result"
    }
   ],
   "source": [
    "'''Tablas de valores, las dos primeras columnas hacen referencia\n",
    "a la fase 1(Directa) y la tercera y cuarta columna a la fase 2 (indirecta)'''\n",
    "\n",
    "constan_1 = pd.DataFrame({'Longitud':[0.05,0.1,0.15,0.2,0.25,0.3,0.35,0.4,0.45,0.5], \n",
    "                      'Resistencia':[0.3,0.4,0.6,1.0,1.1,1.2,1.3,1.5,1.7,1.8],\n",
    "                      'Voltaje':[0.058,0.052,0.08,0.106,0.119,0.138,0.16,0.184,0.217,0.222],\n",
    "                      'Corriente':[0.165,0.163,0.163,0.163,0.163,0.163,0.163,0.162,0.161,0.162]})\n",
    "constan_1"
   ]
  },
  {
   "cell_type": "code",
   "execution_count": 28,
   "metadata": {},
   "outputs": [
    {
     "data": {
      "text/html": [
       "<div>\n",
       "<style scoped>\n",
       "    .dataframe tbody tr th:only-of-type {\n",
       "        vertical-align: middle;\n",
       "    }\n",
       "\n",
       "    .dataframe tbody tr th {\n",
       "        vertical-align: top;\n",
       "    }\n",
       "\n",
       "    .dataframe thead th {\n",
       "        text-align: right;\n",
       "    }\n",
       "</style>\n",
       "<table border=\"1\" class=\"dataframe\">\n",
       "  <thead>\n",
       "    <tr style=\"text-align: right;\">\n",
       "      <th></th>\n",
       "      <th>Longitud</th>\n",
       "      <th>Resistencia</th>\n",
       "      <th>Voltaje</th>\n",
       "      <th>Corriente</th>\n",
       "    </tr>\n",
       "  </thead>\n",
       "  <tbody>\n",
       "    <tr>\n",
       "      <th>0</th>\n",
       "      <td>0.05</td>\n",
       "      <td>0.15</td>\n",
       "      <td>0.064</td>\n",
       "      <td>1.165</td>\n",
       "    </tr>\n",
       "    <tr>\n",
       "      <th>1</th>\n",
       "      <td>0.10</td>\n",
       "      <td>0.60</td>\n",
       "      <td>0.100</td>\n",
       "      <td>1.163</td>\n",
       "    </tr>\n",
       "    <tr>\n",
       "      <th>2</th>\n",
       "      <td>0.15</td>\n",
       "      <td>0.80</td>\n",
       "      <td>0.147</td>\n",
       "      <td>0.162</td>\n",
       "    </tr>\n",
       "    <tr>\n",
       "      <th>3</th>\n",
       "      <td>0.20</td>\n",
       "      <td>1.20</td>\n",
       "      <td>0.206</td>\n",
       "      <td>1.162</td>\n",
       "    </tr>\n",
       "    <tr>\n",
       "      <th>4</th>\n",
       "      <td>0.25</td>\n",
       "      <td>1.50</td>\n",
       "      <td>0.247</td>\n",
       "      <td>1.161</td>\n",
       "    </tr>\n",
       "    <tr>\n",
       "      <th>5</th>\n",
       "      <td>0.30</td>\n",
       "      <td>1.80</td>\n",
       "      <td>0.292</td>\n",
       "      <td>0.161</td>\n",
       "    </tr>\n",
       "    <tr>\n",
       "      <th>6</th>\n",
       "      <td>0.35</td>\n",
       "      <td>2.00</td>\n",
       "      <td>0.332</td>\n",
       "      <td>0.159</td>\n",
       "    </tr>\n",
       "    <tr>\n",
       "      <th>7</th>\n",
       "      <td>0.40</td>\n",
       "      <td>2.40</td>\n",
       "      <td>0.380</td>\n",
       "      <td>0.159</td>\n",
       "    </tr>\n",
       "    <tr>\n",
       "      <th>8</th>\n",
       "      <td>0.45</td>\n",
       "      <td>2.50</td>\n",
       "      <td>0.427</td>\n",
       "      <td>0.158</td>\n",
       "    </tr>\n",
       "    <tr>\n",
       "      <th>9</th>\n",
       "      <td>0.50</td>\n",
       "      <td>3.00</td>\n",
       "      <td>0.455</td>\n",
       "      <td>0.158</td>\n",
       "    </tr>\n",
       "  </tbody>\n",
       "</table>\n",
       "</div>"
      ],
      "text/plain": [
       "   Longitud  Resistencia  Voltaje  Corriente\n",
       "0      0.05         0.15    0.064      1.165\n",
       "1      0.10         0.60    0.100      1.163\n",
       "2      0.15         0.80    0.147      0.162\n",
       "3      0.20         1.20    0.206      1.162\n",
       "4      0.25         1.50    0.247      1.161\n",
       "5      0.30         1.80    0.292      0.161\n",
       "6      0.35         2.00    0.332      0.159\n",
       "7      0.40         2.40    0.380      0.159\n",
       "8      0.45         2.50    0.427      0.158\n",
       "9      0.50         3.00    0.455      0.158"
      ]
     },
     "execution_count": 28,
     "metadata": {},
     "output_type": "execute_result"
    }
   ],
   "source": [
    "cromo_1 = pd.DataFrame({'Longitud':[0.05,0.1,0.15,0.2,0.25,0.3,0.35,0.4,0.45,0.5], \n",
    "                      'Resistencia':[0.15,0.6,0.8,1.2,1.5,1.8,2.0,2.4,2.5,3.0],\n",
    "                      'Voltaje':[0.064,0.1,0.147,0.206,0.247,0.292,0.332,0.38,0.427,0.455],\n",
    "                      'Corriente':[1.165,1.163,0.162,1.162,1.161,0.161,0.159,0.159,0.158,0.158]})\n",
    "cromo_1"
   ]
  },
  {
   "cell_type": "code",
   "execution_count": 167,
   "metadata": {},
   "outputs": [
    {
     "data": {
      "text/html": [
       "<div>\n",
       "<style scoped>\n",
       "    .dataframe tbody tr th:only-of-type {\n",
       "        vertical-align: middle;\n",
       "    }\n",
       "\n",
       "    .dataframe tbody tr th {\n",
       "        vertical-align: top;\n",
       "    }\n",
       "\n",
       "    .dataframe thead th {\n",
       "        text-align: right;\n",
       "    }\n",
       "</style>\n",
       "<table border=\"1\" class=\"dataframe\">\n",
       "  <thead>\n",
       "    <tr style=\"text-align: right;\">\n",
       "      <th></th>\n",
       "      <th>Longitud</th>\n",
       "      <th>Resistencia</th>\n",
       "      <th>Voltaje</th>\n",
       "      <th>Corriente</th>\n",
       "    </tr>\n",
       "  </thead>\n",
       "  <tbody>\n",
       "    <tr>\n",
       "      <th>0</th>\n",
       "      <td>0.05</td>\n",
       "      <td>1.3</td>\n",
       "      <td>0.900</td>\n",
       "      <td>0.152</td>\n",
       "    </tr>\n",
       "    <tr>\n",
       "      <th>1</th>\n",
       "      <td>0.10</td>\n",
       "      <td>1.5</td>\n",
       "      <td>0.311</td>\n",
       "      <td>0.159</td>\n",
       "    </tr>\n",
       "    <tr>\n",
       "      <th>2</th>\n",
       "      <td>0.15</td>\n",
       "      <td>1.6</td>\n",
       "      <td>0.310</td>\n",
       "      <td>0.159</td>\n",
       "    </tr>\n",
       "    <tr>\n",
       "      <th>3</th>\n",
       "      <td>0.20</td>\n",
       "      <td>1.7</td>\n",
       "      <td>0.230</td>\n",
       "      <td>0.161</td>\n",
       "    </tr>\n",
       "    <tr>\n",
       "      <th>4</th>\n",
       "      <td>0.25</td>\n",
       "      <td>2.0</td>\n",
       "      <td>0.243</td>\n",
       "      <td>0.161</td>\n",
       "    </tr>\n",
       "    <tr>\n",
       "      <th>5</th>\n",
       "      <td>0.30</td>\n",
       "      <td>2.2</td>\n",
       "      <td>0.265</td>\n",
       "      <td>0.158</td>\n",
       "    </tr>\n",
       "    <tr>\n",
       "      <th>6</th>\n",
       "      <td>0.35</td>\n",
       "      <td>2.8</td>\n",
       "      <td>0.345</td>\n",
       "      <td>0.159</td>\n",
       "    </tr>\n",
       "    <tr>\n",
       "      <th>7</th>\n",
       "      <td>0.40</td>\n",
       "      <td>3.2</td>\n",
       "      <td>0.364</td>\n",
       "      <td>0.157</td>\n",
       "    </tr>\n",
       "    <tr>\n",
       "      <th>8</th>\n",
       "      <td>0.45</td>\n",
       "      <td>3.4</td>\n",
       "      <td>0.384</td>\n",
       "      <td>0.159</td>\n",
       "    </tr>\n",
       "    <tr>\n",
       "      <th>9</th>\n",
       "      <td>0.50</td>\n",
       "      <td>3.5</td>\n",
       "      <td>0.433</td>\n",
       "      <td>0.158</td>\n",
       "    </tr>\n",
       "  </tbody>\n",
       "</table>\n",
       "</div>"
      ],
      "text/plain": [
       "   Longitud  Resistencia  Voltaje  Corriente\n",
       "0      0.05          1.3    0.900      0.152\n",
       "1      0.10          1.5    0.311      0.159\n",
       "2      0.15          1.6    0.310      0.159\n",
       "3      0.20          1.7    0.230      0.161\n",
       "4      0.25          2.0    0.243      0.161\n",
       "5      0.30          2.2    0.265      0.158\n",
       "6      0.35          2.8    0.345      0.159\n",
       "7      0.40          3.2    0.364      0.157\n",
       "8      0.45          3.4    0.384      0.159\n",
       "9      0.50          3.5    0.433      0.158"
      ]
     },
     "execution_count": 167,
     "metadata": {},
     "output_type": "execute_result"
    }
   ],
   "source": [
    "constan_2 = pd.DataFrame({'Longitud':[0.05,0.1,0.15,0.2,0.25,0.3,0.35,0.4,0.45,0.5], \n",
    "                      'Resistencia':[1.3,1.5,1.6,1.7,2.0,2.2,2.8,3.2,3.4,3.5],\n",
    "                      'Voltaje':[0.9,0.311,0.310,0.230,0.243,0.265,0.3450,0.364,0.384,0.433],\n",
    "                      'Corriente':[0.152,0.159,0.159,0.161,0.161,0.158,0.159,0.157,0.159,0.158]})\n",
    "constan_2"
   ]
  },
  {
   "cell_type": "code",
   "execution_count": 156,
   "metadata": {},
   "outputs": [
    {
     "data": {
      "text/html": [
       "<div>\n",
       "<style scoped>\n",
       "    .dataframe tbody tr th:only-of-type {\n",
       "        vertical-align: middle;\n",
       "    }\n",
       "\n",
       "    .dataframe tbody tr th {\n",
       "        vertical-align: top;\n",
       "    }\n",
       "\n",
       "    .dataframe thead th {\n",
       "        text-align: right;\n",
       "    }\n",
       "</style>\n",
       "<table border=\"1\" class=\"dataframe\">\n",
       "  <thead>\n",
       "    <tr style=\"text-align: right;\">\n",
       "      <th></th>\n",
       "      <th>Longitud</th>\n",
       "      <th>Resistencia</th>\n",
       "      <th>Voltaje</th>\n",
       "      <th>Corriente</th>\n",
       "    </tr>\n",
       "  </thead>\n",
       "  <tbody>\n",
       "    <tr>\n",
       "      <th>0</th>\n",
       "      <td>0.05</td>\n",
       "      <td>1.0</td>\n",
       "      <td>0.110</td>\n",
       "      <td>0.163</td>\n",
       "    </tr>\n",
       "    <tr>\n",
       "      <th>1</th>\n",
       "      <td>0.10</td>\n",
       "      <td>1.6</td>\n",
       "      <td>0.198</td>\n",
       "      <td>0.162</td>\n",
       "    </tr>\n",
       "    <tr>\n",
       "      <th>2</th>\n",
       "      <td>0.15</td>\n",
       "      <td>2.1</td>\n",
       "      <td>0.314</td>\n",
       "      <td>0.161</td>\n",
       "    </tr>\n",
       "    <tr>\n",
       "      <th>3</th>\n",
       "      <td>0.20</td>\n",
       "      <td>2.6</td>\n",
       "      <td>0.387</td>\n",
       "      <td>0.159</td>\n",
       "    </tr>\n",
       "    <tr>\n",
       "      <th>4</th>\n",
       "      <td>0.25</td>\n",
       "      <td>3.3</td>\n",
       "      <td>0.487</td>\n",
       "      <td>0.158</td>\n",
       "    </tr>\n",
       "    <tr>\n",
       "      <th>5</th>\n",
       "      <td>0.30</td>\n",
       "      <td>3.8</td>\n",
       "      <td>0.560</td>\n",
       "      <td>0.157</td>\n",
       "    </tr>\n",
       "    <tr>\n",
       "      <th>6</th>\n",
       "      <td>0.35</td>\n",
       "      <td>4.5</td>\n",
       "      <td>0.650</td>\n",
       "      <td>0.156</td>\n",
       "    </tr>\n",
       "    <tr>\n",
       "      <th>7</th>\n",
       "      <td>0.40</td>\n",
       "      <td>5.0</td>\n",
       "      <td>0.730</td>\n",
       "      <td>0.154</td>\n",
       "    </tr>\n",
       "    <tr>\n",
       "      <th>8</th>\n",
       "      <td>0.45</td>\n",
       "      <td>5.6</td>\n",
       "      <td>0.810</td>\n",
       "      <td>0.153</td>\n",
       "    </tr>\n",
       "    <tr>\n",
       "      <th>9</th>\n",
       "      <td>0.50</td>\n",
       "      <td>6.2</td>\n",
       "      <td>0.892</td>\n",
       "      <td>0.152</td>\n",
       "    </tr>\n",
       "  </tbody>\n",
       "</table>\n",
       "</div>"
      ],
      "text/plain": [
       "   Longitud  Resistencia  Voltaje  Corriente\n",
       "0      0.05          1.0    0.110      0.163\n",
       "1      0.10          1.6    0.198      0.162\n",
       "2      0.15          2.1    0.314      0.161\n",
       "3      0.20          2.6    0.387      0.159\n",
       "4      0.25          3.3    0.487      0.158\n",
       "5      0.30          3.8    0.560      0.157\n",
       "6      0.35          4.5    0.650      0.156\n",
       "7      0.40          5.0    0.730      0.154\n",
       "8      0.45          5.6    0.810      0.153\n",
       "9      0.50          6.2    0.892      0.152"
      ]
     },
     "execution_count": 156,
     "metadata": {},
     "output_type": "execute_result"
    }
   ],
   "source": [
    "cromo_2 = pd.DataFrame({'Longitud':[0.05,0.1,0.15,0.2,0.25,0.3,0.35,0.4,0.45,0.5], \n",
    "                      'Resistencia':[1,1.6,2.1,2.6,3.3,3.8,4.5,5.0,5.6,6.2],\n",
    "                      'Voltaje':[0.11,0.198,0.314,0.387,0.487,0.56,0.650,0.73,0.810,0.892],\n",
    "                      'Corriente':[0.163,0.162,0.161,0.159,0.158,0.157,0.156,0.154,0.153,0.152]})\n",
    "cromo_2"
   ]
  },
  {
   "cell_type": "code",
   "execution_count": 157,
   "metadata": {},
   "outputs": [],
   "source": [
    "def calc_rho(rad,res,long): #Calculo de resistividad, teniendo ya la resistencia\n",
    "    d = np.pi*(rad**2)*res / long\n",
    "    return d\n",
    "\n",
    "def R(volt,corr): #Cálculo de resistencia (fase indirecta)\n",
    "    r = volt/corr\n",
    "    return r\n"
   ]
  },
  {
   "cell_type": "code",
   "execution_count": 158,
   "metadata": {},
   "outputs": [],
   "source": [
    "const1_rhos_dir = []\n",
    "const1_rhos_ind = []\n",
    "\n",
    "cromo1_rhos_dir=[]\n",
    "cromo1_rhos_ind=[]\n",
    "\n",
    "const2_rhos_dir = []\n",
    "const2_rhos_ind = []\n",
    "\n",
    "cromo2_rhos_dir=[]\n",
    "cromo2_rhos_ind=[]\n",
    "\n",
    "\n",
    "#Resistencias calculadas indirectamente\n",
    "const1_res=[]\n",
    "cromo1_res=[]\n",
    "const2_res=[]\n",
    "cromo2_res=[]\n",
    "\n",
    "for i in range (0,10):\n",
    "    \n",
    "    #Fase 1 con Constantan \n",
    "    d1 = calc_rho(phi,constan_1.values[i:i+1,1], constan_1.values[i:i+1,0])\n",
    "    r = R(constan_1.values[i:i+1,2],constan_1.values[i:i+1,3])\n",
    "    const1_res.append(r)\n",
    "    d2 = calc_rho(phi,r, constan_1.values[i:i+1,0])\n",
    "    const1_rhos_dir.append(d1)\n",
    "    const1_rhos_ind.append(d2)\n",
    "    \n",
    "    #Fase 2 con Cromo-Niquel\n",
    "    d1 = calc_rho(phi,cromo_1.values[i:i+1,1], cromo_1.values[i:i+1,0])\n",
    "    r = R(constan_1.values[i:i+1,2],constan_1.values[i:i+1,3])\n",
    "    cromo1_res.append(r)\n",
    "    d2 = calc_rho(phi,r, cromo_1.values[i:i+1,0])\n",
    "    cromo1_rhos_dir.append(d1)\n",
    "    cromo1_rhos_ind.append(d2)\n",
    "    \n",
    "    #Fase 1 con Constantan distinto radio\n",
    "    d1 = calc_rho(alpha,constan_2.values[i:i+1,1], constan_2.values[i:i+1,0])\n",
    "    r = R(constan_2.values[i:i+1,2],constan_2.values[i:i+1,3])\n",
    "    const2_res.append(r)\n",
    "    d2 = calc_rho(alpha,r, constan_2.values[i:i+1,0])\n",
    "    const2_rhos_dir.append(d1)\n",
    "    const2_rhos_ind.append(d2)\n",
    "    \n",
    "    #Fase 2 con Cromo-Niquel distinto radio\n",
    "    d1 = calc_rho(alpha,cromo_2.values[i:i+1,1], cromo_2.values[i:i+1,0])\n",
    "    r = R(cromo_2.values[i:i+1,2],cromo_2.values[i:i+1,3])\n",
    "    cromo2_res.append(r)\n",
    "    d2 = calc_rho(alpha,r,cromo_2.values[i:i+1,0])\n",
    "    cromo2_rhos_dir.append(d1)\n",
    "    cromo2_rhos_ind.append(d2)\n",
    "    \n"
   ]
  },
  {
   "cell_type": "markdown",
   "metadata": {},
   "source": [
    "## Gráficas de la Fase Directa"
   ]
  },
  {
   "cell_type": "code",
   "execution_count": 160,
   "metadata": {},
   "outputs": [
    {
     "name": "stdout",
     "output_type": "stream",
     "text": [
      "2.6751137444203997e-06 0.1533333333333332\n"
     ]
    },
    {
     "data": {
      "image/png": "[encoded data removed]",
      "text/plain": [
       "<Figure size 432x288 with 1 Axes>"
      ]
     },
     "metadata": {
      "needs_background": "light"
     },
     "output_type": "display_data"
    }
   ],
   "source": [
    "sns.regplot(x=constan_1.values[:,0]/(np.pi*((phi)**2)),y=constan_1.values[:,1], \n",
    "            data=constan_1, label=\"Regresión lineal\")\n",
    "slope, intercept = np.polyfit(constan_1.values[:,0]/(np.pi*((phi)**2)), constan_1.values[:,1], 1)\n",
    "plt.xlabel('L/A [1/m]')\n",
    "plt.ylabel('Resistencia')\n",
    "print(slope, intercept)"
   ]
  },
  {
   "cell_type": "code",
   "execution_count": 161,
   "metadata": {},
   "outputs": [
    {
     "name": "stdout",
     "output_type": "stream",
     "text": [
      "4.245910071215297e-06 0.8333333333333331\n"
     ]
    },
    {
     "data": {
      "image/png": "[encoded data removed]",
      "text/plain": [
       "<Figure size 432x288 with 1 Axes>"
      ]
     },
     "metadata": {
      "needs_background": "light"
     },
     "output_type": "display_data"
    }
   ],
   "source": [
    "sns.regplot(x=constan_2.values[:,0]/(np.pi*((phi)**2)),y=constan_2.values[:,1], \n",
    "            data=constan_1, label=\"Regresión lineal\")\n",
    "slope, intercept = np.polyfit(constan_2.values[:,0]/(np.pi*((phi)**2)), constan_2.values[:,1], 1)\n",
    "print(slope, intercept)"
   ]
  },
  {
   "cell_type": "code",
   "execution_count": 162,
   "metadata": {},
   "outputs": [
    {
     "name": "stdout",
     "output_type": "stream",
     "text": [
      "2.316067784026039e-06 -0.059999999999999894\n"
     ]
    },
    {
     "data": {
      "image/png": "[encoded data removed]",
      "text/plain": [
       "<Figure size 432x288 with 1 Axes>"
      ]
     },
     "metadata": {
      "needs_background": "light"
     },
     "output_type": "display_data"
    }
   ],
   "source": [
    "sns.regplot(x=cromo_1.values[:,0]/(np.pi*((alpha)**2)),y=cromo_1.values[:,1], \n",
    "            data=constan_1, label=\"Regresión lineal\")\n",
    "slope, intercept = np.polyfit(cromo_1.values[:,0]/(np.pi*((alpha)**2)), cromo_1.values[:,1], 1)\n",
    "print(slope, intercept)"
   ]
  },
  {
   "cell_type": "code",
   "execution_count": 163,
   "metadata": {},
   "outputs": [
    {
     "name": "stdout",
     "output_type": "stream",
     "text": [
      "4.454873582567709e-06 0.386666666666667\n"
     ]
    },
    {
     "data": {
      "image/png": "[encoded data removed]",
      "text/plain": [
       "<Figure size 432x288 with 1 Axes>"
      ]
     },
     "metadata": {
      "needs_background": "light"
     },
     "output_type": "display_data"
    }
   ],
   "source": [
    "sns.regplot(x=cromo_2.values[:,0]/(np.pi*((alpha)**2)),y=cromo_2.values[:,1], \n",
    "            data=constan_1, label=\"Regresión lineal\")\n",
    "slope, intercept = np.polyfit(cromo_2.values[:,0]/(np.pi*((alpha)**2)), cromo_2.values[:,1], 1)\n",
    "print(slope, intercept)"
   ]
  },
  {
   "cell_type": "markdown",
   "metadata": {},
   "source": [
    "## Gráficas de la Fase Indirecta"
   ]
  },
  {
   "cell_type": "code",
   "execution_count": 164,
   "metadata": {},
   "outputs": [
    {
     "name": "stdout",
     "output_type": "stream",
     "text": [
      "[1.97128321e-06] [0.13216507]\n"
     ]
    },
    {
     "data": {
      "image/png": "[encoded data removed]",
      "text/plain": [
       "<Figure size 432x288 with 1 Axes>"
      ]
     },
     "metadata": {
      "needs_background": "light"
     },
     "output_type": "display_data"
    }
   ],
   "source": [
    "sns.regplot(x=constan_1.values[:,0]/(np.pi*((phi)**2)), y=const1_res, color='green')\n",
    "slope, intercept = np.polyfit(constan_1.values[:,0]/(np.pi*((phi)**2)), const1_res, 1)\n",
    "plt.xlabel('L/A [1/m]')\n",
    "plt.ylabel('Resistencia')\n",
    "print(slope, intercept)"
   ]
  },
  {
   "cell_type": "code",
   "execution_count": 165,
   "metadata": {},
   "outputs": [
    {
     "name": "stdout",
     "output_type": "stream",
     "text": [
      "[-2.01590604e-06] [3.11442108]\n"
     ]
    },
    {
     "data": {
      "image/png": "[encoded data removed]",
      "text/plain": [
       "<Figure size 432x288 with 1 Axes>"
      ]
     },
     "metadata": {
      "needs_background": "light"
     },
     "output_type": "display_data"
    }
   ],
   "source": [
    "sns.regplot(x=constan_2.values[:,0]/(np.pi*((phi)**2)),y=const2_res, label=\"Regresión lineal\", color='green')\n",
    "slope, intercept = np.polyfit(constan_2.values[:,0]/(np.pi*((phi)**2)), const2_res, 1)\n",
    "print(slope, intercept)"
   ]
  },
  {
   "cell_type": "code",
   "execution_count": 153,
   "metadata": {},
   "outputs": [
    {
     "name": "stdout",
     "output_type": "stream",
     "text": [
      "[9.65928772e-07] [0.13216507]\n"
     ]
    },
    {
     "data": {
      "image/png": "[encoded data removed]",
      "text/plain": [
       "<Figure size 432x288 with 1 Axes>"
      ]
     },
     "metadata": {
      "needs_background": "light"
     },
     "output_type": "display_data"
    }
   ],
   "source": [
    "sns.regplot(x=cromo_1.values[:,0]/(np.pi*((alpha)**2)),y=cromo1_res, label=\"Regresión lineal\", color='green')\n",
    "slope, intercept = np.polyfit(cromo_1.values[:,0]/(np.pi*((alpha)**2)), cromo1_res, 1)\n",
    "print(slope, intercept)"
   ]
  },
  {
   "cell_type": "code",
   "execution_count": 154,
   "metadata": {},
   "outputs": [
    {
     "name": "stdout",
     "output_type": "stream",
     "text": [
      "[4.42585381e-06] [0.13739984]\n"
     ]
    },
    {
     "data": {
      "image/png": "[encoded data removed]",
      "text/plain": [
       "<Figure size 432x288 with 1 Axes>"
      ]
     },
     "metadata": {
      "needs_background": "light"
     },
     "output_type": "display_data"
    }
   ],
   "source": [
    "sns.regplot(x=cromo_2.values[:,0]/(np.pi*((alpha)**2)),y=cromo2_res, \n",
    "            data=constan_1, label=\"Regresión lineal\", color='green')\n",
    "slope, intercept = np.polyfit(cromo_2.values[:,0]/(np.pi*((alpha)**2)), cromo2_res, 1)\n",
    "print(slope, intercept)"
   ]
  },
  {
   "cell_type": "markdown",
   "metadata": {},
   "source": [
    "## Errores"
   ]
  },
  {
   "cell_type": "code",
   "execution_count": 181,
   "metadata": {},
   "outputs": [],
   "source": [
    "def Delta_R(V,dV,I,dI): #Propagación de errores para el cálculo de R\n",
    "    dR = (1/I)*dV + (V/(I**2))*dI\n",
    "    return dR\n",
    "\n",
    "def Delta_rho(r,dr,R,dR,L,dL): #Propagación de errores para rho, r es radio y R resistencia\n",
    "    dD = ((1*np.pi*r*R)/L)*dr + (np.pi*(r**2)/L)*dR + ((np.pi*(r**2)*R)/(L**2))*dL\n",
    "    return dD\n",
    "    "
   ]
  },
  {
   "cell_type": "code",
   "execution_count": null,
   "metadata": {},
   "outputs": [],
   "source": []
  }
 ],
 "metadata": {
  "kernelspec": {
   "display_name": "Python 3",
   "language": "python",
   "name": "python3"
  },
  "language_info": {
   "codemirror_mode": {
    "name": "ipython",
    "version": 3
   },
   "file_extension": ".py",
   "mimetype": "text/x-python",
   "name": "python",
   "nbconvert_exporter": "python",
   "pygments_lexer": "ipython3",
   "version": "3.8.5"
  }
 },
 "nbformat": 4,
 "nbformat_minor": 4
}
