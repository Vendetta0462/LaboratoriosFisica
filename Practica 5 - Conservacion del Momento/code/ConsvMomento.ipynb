{
 "cells": [
  {
   "cell_type": "code",
   "execution_count": 1,
   "id": "209611b1-760c-49fd-af7f-ac1be313f7b7",
   "metadata": {},
   "outputs": [],
   "source": [
    "import numpy as np\n",
    "import matplotlib.pyplot as plt\n",
    "import pandas as pd\n",
    "import seaborn as sns"
   ]
  },
  {
   "cell_type": "markdown",
   "id": "7aa31972-0b71-4f73-b2b6-1ce56605aca6",
   "metadata": {},
   "source": [
    "# Fase 1\n",
    "Choques elásticos"
   ]
  },
  {
   "cell_type": "code",
   "execution_count": null,
   "id": "72797f2a-82d3-4666-8d1f-c89a4d666e31",
   "metadata": {},
   "outputs": [],
   "source": [
    "pd.read_csv(\"../data/Datos impactos.csv\", delimiter=\";\", decimal=\",\",\n",
    "                    usecols=(0,1),\n",
    "                    names=(\"1.v1\", \"1.v2\", \"1.t\", \"1.a\", \"2.v1\", \"2.v2\", \"2.t\", \"2.a\", \"3.v1\", \"3.v2\",\n",
    "                           \"3.t\", \"3.a\", \"4.v1\", \"4.v2\", \"4.t\", \"4.a\", \"5.v1\", \"5.v2\", \"5.t\", \"5.a\",),\n",
    "                    skiprows=2).dropna(how=\"all\")"
   ]
  }
 ],
 "metadata": {
  "kernelspec": {
   "display_name": "Python 3 (ipykernel)",
   "language": "python",
   "name": "python3"
  },
  "language_info": {
   "codemirror_mode": {
    "name": "ipython",
    "version": 3
   },
   "file_extension": ".py",
   "mimetype": "text/x-python",
   "name": "python",
   "nbconvert_exporter": "python",
   "pygments_lexer": "ipython3",
   "version": "3.9.7"
  }
 },
 "nbformat": 4,
 "nbformat_minor": 5
}
