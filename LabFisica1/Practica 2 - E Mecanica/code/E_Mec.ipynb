{
 "cells": [
  {
   "cell_type": "markdown",
   "metadata": {},
   "source": [
    "**Medidas del laboratorio**\n",
    "\n",
    "$x_0$ = 0.5m  \n",
    "$x_f$ = 1.3m  \n",
    "$\\Delta x$ = 0.4m  \n",
    "\n",
    "Masa inicial con aleta: 0.197kg\n",
    "\n",
    "Incertidumbre: 0.001kg\n",
    "\n",
    "Deslizador solo: 0.187kg\n",
    "\n",
    "Longitud aleta: 0.0116m\n",
    "\n",
    "Bloque 1: 0.0213 m\n",
    "\n",
    "\n",
    "Bloque 2: 0.03035 m\n",
    "\n",
    "Bloque 3: 0.0425 m\n",
    "\n",
    "Incertidumbre calibrador: 0.00005 m\n",
    "\n",
    "Distancia entre fotosensores: 0.4m\n",
    "\n",
    "***Experimento con bloque 1***\n",
    "\n",
    "Serie 1: Masa regular\n",
    "\n",
    "Serie 2: Masa 0.04Kg\n",
    "\n",
    "Serie 3: Masa 0.1 kg\n",
    "\n",
    "***Experimento con bloque 2***\n",
    "\n",
    "Serie 4: Masa regular\n",
    "\n",
    "Serie 5: Masa 0.04kg\n",
    "\n",
    "Serie 6: Masa 0.1kg\n",
    "\n",
    "***Experimento con bloque 3***\n",
    "\n",
    "Serie 7: Masa regular \n",
    "\n",
    "Serie 8: Masa 0.04kg \n",
    "\n",
    "Serie 9: Masa 0.1kg"
   ]
  },
  {
   "cell_type": "code",
   "execution_count": 1,
   "metadata": {},
   "outputs": [],
   "source": [
    "import numpy as np\n",
    "import matplotlib.pyplot as plt\n",
    "import pandas as pd\n",
    "import seaborn as sns"
   ]
  },
  {
   "cell_type": "markdown",
   "metadata": {
    "tags": []
   },
   "source": [
    "# Experimental #"
   ]
  },
  {
   "cell_type": "markdown",
   "metadata": {
    "tags": []
   },
   "source": [
    "### Cálculo de Ángulos ###"
   ]
  },
  {
   "cell_type": "code",
   "execution_count": 8,
   "metadata": {},
   "outputs": [
    {
     "name": "stdout",
     "output_type": "stream",
     "text": [
      "1.2204924030276227 1.7391939797228742 2.4358042835065783\n"
     ]
    }
   ],
   "source": [
    "m_1=0.197\n",
    "m_2=m_1+0.04\n",
    "m_3=m_1+0.1\n",
    "\n",
    "b_1= 0.0213 \n",
    "b_2= 0.03035\n",
    "b_3= 0.0425\n",
    "\n",
    "g=9.7803\n",
    "\n",
    "a_1=np.arcsin(b_1) #Ángulo del bloque 1 \n",
    "a_1=np.degrees(a_1)\n",
    "\n",
    "a_2=np.arcsin(b_2) #Ángulo del bloque 2\n",
    "a_2=np.degrees(a_2)\n",
    "\n",
    "a_3=np.arcsin(b_3) #Ángulo del bloque 3\n",
    "a_3=np.degrees(a_3)\n",
    "\n",
    "print(a_1, a_2, a_3)"
   ]
  },
  {
   "cell_type": "markdown",
   "metadata": {},
   "source": [
    "-----------------------------------------------------------------"
   ]
  },
  {
   "cell_type": "markdown",
   "metadata": {
    "tags": []
   },
   "source": [
    "### Importe de datos, calculo de promedios y desviaciónes ###"
   ]
  },
  {
   "cell_type": "code",
   "execution_count": 5,
   "metadata": {},
   "outputs": [],
   "source": [
    "#Importamos los datos\n",
    "names=[]\n",
    "for i in range(1, 10):\n",
    "    names.append(\"Set\"+str(i)+\".1\")\n",
    "    names.append(\"Set\"+str(i)+\".2\")\n",
    "data = pd.read_csv(\"../data/Dato exportado_090327.csv\", skiprows=2,\n",
    "                   usecols=[3, 5, 12, 14, 21, 23, 30, 32, 39, 41, 48, 50, 57, 59, 66, 68, 75, 77], names=names,\n",
    "                   sep=\";\", decimal=\",\").dropna(how=\"all\")\n",
    "for i in range(1,10):\n",
    "    data[\"Set\" +str(i)+ \".2\"] = data[\"Set\" +str(i)+ \".2\"].shift(periods=-1)\n",
    "data = data.dropna().set_index(pd.Index(range(0,10)))\n",
    "data_prom = pd.DataFrame(np.round(data.mean(), 4)).T\n",
    "data_std = pd.DataFrame(np.round(data.std(ddof=1), 4)).T\n",
    "# Delta_E.T"
   ]
  },
  {
   "cell_type": "markdown",
   "metadata": {
    "tags": []
   },
   "source": [
    "### Cálculo de alturas en el riel ###"
   ]
  },
  {
   "cell_type": "code",
   "execution_count": 6,
   "metadata": {},
   "outputs": [],
   "source": [
    "def hi(B):\n",
    "    h1=0.6*B\n",
    "    h2=0.2*B\n",
    "    return round(h1,4), round(h2,4)"
   ]
  },
  {
   "cell_type": "code",
   "execution_count": 9,
   "metadata": {},
   "outputs": [],
   "source": [
    "b1_h1, b1_h2 = hi(b_1)\n",
    "b2_h1, b2_h2 = hi(b_2)\n",
    "b3_h1, b3_h2 = hi(b_3)"
   ]
  },
  {
   "cell_type": "markdown",
   "metadata": {},
   "source": [
    "### Cálculo de energías y errores ###"
   ]
  },
  {
   "cell_type": "code",
   "execution_count": 10,
   "metadata": {},
   "outputs": [
    {
     "data": {
      "text/html": [
       "<div>\n",
       "<style scoped>\n",
       "    .dataframe tbody tr th:only-of-type {\n",
       "        vertical-align: middle;\n",
       "    }\n",
       "\n",
       "    .dataframe tbody tr th {\n",
       "        vertical-align: top;\n",
       "    }\n",
       "\n",
       "    .dataframe thead th {\n",
       "        text-align: right;\n",
       "    }\n",
       "</style>\n",
       "<table border=\"1\" class=\"dataframe\">\n",
       "  <thead>\n",
       "    <tr style=\"text-align: right;\">\n",
       "      <th></th>\n",
       "      <th>0</th>\n",
       "    </tr>\n",
       "  </thead>\n",
       "  <tbody>\n",
       "    <tr>\n",
       "      <th>0</th>\n",
       "      <td>0.095</td>\n",
       "    </tr>\n",
       "    <tr>\n",
       "      <th>1</th>\n",
       "      <td>0.753</td>\n",
       "    </tr>\n",
       "    <tr>\n",
       "      <th>2</th>\n",
       "      <td>-0.208</td>\n",
       "    </tr>\n",
       "    <tr>\n",
       "      <th>3</th>\n",
       "      <td>0.814</td>\n",
       "    </tr>\n",
       "    <tr>\n",
       "      <th>4</th>\n",
       "      <td>0.496</td>\n",
       "    </tr>\n",
       "    <tr>\n",
       "      <th>5</th>\n",
       "      <td>0.181</td>\n",
       "    </tr>\n",
       "    <tr>\n",
       "      <th>6</th>\n",
       "      <td>1.081</td>\n",
       "    </tr>\n",
       "    <tr>\n",
       "      <th>7</th>\n",
       "      <td>0.520</td>\n",
       "    </tr>\n",
       "    <tr>\n",
       "      <th>8</th>\n",
       "      <td>0.366</td>\n",
       "    </tr>\n",
       "  </tbody>\n",
       "</table>\n",
       "</div>"
      ],
      "text/plain": [
       "       0\n",
       "0  0.095\n",
       "1  0.753\n",
       "2 -0.208\n",
       "3  0.814\n",
       "4  0.496\n",
       "5  0.181\n",
       "6  1.081\n",
       "7  0.520\n",
       "8  0.366"
      ]
     },
     "execution_count": 10,
     "metadata": {},
     "output_type": "execute_result"
    }
   ],
   "source": [
    "E = pd.DataFrame()\n",
    "E_err = pd.DataFrame()\n",
    "masas = [m_1, m_2, m_3]\n",
    "E_0 = [m_1*g*b_1, m_2*g*b_1, m_3*g*b_1, m_1*g*b_2, m_2*g*b_2, m_3*g*b_2, m_1*g*b_3, m_2*g*b_3, m_3*g*b_3]\n",
    "bloques = [b1_h1, b1_h2, b2_h1, b2_h2, b3_h1, b3_h2]\n",
    "for i in range(3):\n",
    "    for j in range(3):\n",
    "        E1 = ((1/2)*masas[j]*(data_prom[\"Set\"+str(j+1+3*i)+\".1\"]**2))+(masas[j]*g*bloques[2*i])\n",
    "        E2 = ((1/2)*masas[j]*(data_prom[\"Set\"+str(j+1+3*i)+\".2\"]**2))+(masas[j]*g*bloques[2*i+1])\n",
    "        E[\"Set\"+str(j+1+3*i)+\".1\"] = round(E1,3)\n",
    "        E[\"Set\"+str(j+1+3*i)+\".2\"] = round(E2,3)\n",
    "        E_err1 = (masas[j]*data_prom[\"Set\"+str(j+1+3*i)+\".1\"]*data_std[\"Set\"+str(j+1+3*i)+\".1\"]\n",
    "                 )+(masas[j]*g*0.001)+((((data_prom[\"Set\"+str(j+1+3*i)+\".2\"]**2)/2)+(g*bloques[2*i]))*0.001)\n",
    "        E_err2 = (masas[j]*data_prom[\"Set\"+str(j+1+3*i)+\".2\"]*data_std[\"Set\"+str(j+1+3*i)+\".2\"]\n",
    "                 )+(masas[j]*g*0.001)+((((data_prom[\"Set\"+str(j+1+3*i)+\".2\"]**2)/2)+(g*bloques[2*i+1]))*0.001)\n",
    "        E_err[\"Set\"+str(j+1+3*i)+\".1\"] = round(E_err1,3)\n",
    "        E_err[\"Set\"+str(j+1+3*i)+\".2\"] = round(E_err2,3)\n",
    "\n",
    "Delta_E_12 = pd.DataFrame()\n",
    "Delta_E_02 = pd.DataFrame()\n",
    "for i in range(9):\n",
    "    Delta_E_12[\"Set\"+str(i+1)] = np.abs(E[\"Set\"+str(i+1)+\".1\"]-E[\"Set\"+str(i+1)+\".2\"])\n",
    "    Delta_E_02[\"Set\"+str(i+1)] = np.abs(round(E_0[i], 3)-E[\"Set\"+str(i+1)+\".2\"])\n",
    "(E_err/E*100).mean(axis=1)\n",
    "(E_err/E*100).std(axis=1, ddof=1)\n",
    "round(pd.DataFrame((1-E[E.columns[0:18:2]].T.values/pd.DataFrame(E_0).values)*100),3)"
   ]
  },
  {
   "cell_type": "code",
   "execution_count": 37,
   "metadata": {},
   "outputs": [
    {
     "data": {
      "text/plain": [
       "array([[2.5       , 2.08333333, 3.33333333, 1.75438596, 1.44927536,\n",
       "        2.3255814 , 1.25      , 2.08333333, 2.5       ]])"
      ]
     },
     "execution_count": 37,
     "metadata": {},
     "output_type": "execute_result"
    }
   ],
   "source": [
    "Delta_E_12.values*100/E[E.columns[1:18:2]].values"
   ]
  },
  {
   "cell_type": "code",
   "execution_count": 120,
   "metadata": {},
   "outputs": [
    {
     "data": {
      "text/plain": [
       "<matplotlib.collections.PathCollection at 0x285fba2c400>"
      ]
     },
     "execution_count": 120,
     "metadata": {},
     "output_type": "execute_result"
    },
    {
     "data": {
      "image/png": "[encoded data removed]",
      "text/plain": [
       "<Figure size 432x288 with 1 Axes>"
      ]
     },
     "metadata": {
      "needs_background": "light"
     },
     "output_type": "display_data"
    }
   ],
   "source": [
    "#plt.scatter(data_prom[[\"Set1.1\",\"Set1.2\",\"Set3.1\",\"Set3.2\",\"Set3.1\",\"Set3.2\"]], E[[\"Set1.1\",\"Set1.2\",\"Set3.1\",\"Set3.2\",\"Set3.1\",\"Set3.2\"]])\n",
    "plt.scatter(data_prom[[\"Set1.1\",\"Set4.1\",\"Set7.1\"]], 1/2*m_1*data_prom[[\"Set1.1\",\"Set4.1\",\"Set7.1\"]]**2)"
   ]
  },
  {
   "cell_type": "markdown",
   "metadata": {},
   "source": [
    "# Teórico #"
   ]
  },
  {
   "cell_type": "code",
   "execution_count": 143,
   "metadata": {},
   "outputs": [
    {
     "data": {
      "text/plain": [
       "<matplotlib.collections.PathCollection at 0x285feb58760>"
      ]
     },
     "execution_count": 143,
     "metadata": {},
     "output_type": "execute_result"
    },
    {
     "data": {
      "image/png": "[encoded data removed]",
      "text/plain": [
       "<Figure size 432x288 with 1 Axes>"
      ]
     },
     "metadata": {
      "needs_background": "light"
     },
     "output_type": "display_data"
    }
   ],
   "source": [
    "plt.plot(np.linspace(b_1, 0, 100), m_1*g*(b_1-np.linspace(b_1, 0, 100)))\n",
    "plt.plot(np.linspace(b_1, 0, 100), m_1*g*np.linspace(b_1, 0, 100))\n",
    "plt.hlines(m_1*g*b_1, 0, b_1)\n",
    "plt.scatter(np.array([b1_h1, b1_h2]), m_1*g*(np.array([b1_h1, b1_h2])))\n",
    "plt.scatter(np.array([b1_h1, b1_h2]), m_1*g*(b_1-np.array([b1_h1, b1_h2])))\n",
    "# plt.scatter(data_prom[[\"Set1.1\", \"Set1.2\"]], 1/2*m_1*data_prom[[\"Set1.1\", \"Set1.2\"]]**2)"
   ]
  },
  {
   "cell_type": "code",
   "execution_count": 40,
   "metadata": {},
   "outputs": [
    {
     "name": "stdout",
     "output_type": "stream",
     "text": [
      "0.123 \n",
      "    Set9.1  Set9.2\n",
      "0   0.123    0.12\n"
     ]
    }
   ],
   "source": [
    "print(round(m_3*g*b_3, 3), \"\\n\",E[[\"Set9.1\", \"Set9.2\"]])"
   ]
  },
  {
   "cell_type": "code",
   "execution_count": 17,
   "metadata": {},
   "outputs": [
    {
     "data": {
      "text/html": [
       "<div>\n",
       "<style scoped>\n",
       "    .dataframe tbody tr th:only-of-type {\n",
       "        vertical-align: middle;\n",
       "    }\n",
       "\n",
       "    .dataframe tbody tr th {\n",
       "        vertical-align: top;\n",
       "    }\n",
       "\n",
       "    .dataframe thead th {\n",
       "        text-align: right;\n",
       "    }\n",
       "</style>\n",
       "<table border=\"1\" class=\"dataframe\">\n",
       "  <thead>\n",
       "    <tr style=\"text-align: right;\">\n",
       "      <th></th>\n",
       "      <th>0</th>\n",
       "    </tr>\n",
       "  </thead>\n",
       "  <tbody>\n",
       "    <tr>\n",
       "      <th>0</th>\n",
       "      <td>0.4078</td>\n",
       "    </tr>\n",
       "    <tr>\n",
       "      <th>1</th>\n",
       "      <td>0.5767</td>\n",
       "    </tr>\n",
       "    <tr>\n",
       "      <th>2</th>\n",
       "      <td>0.4875</td>\n",
       "    </tr>\n",
       "    <tr>\n",
       "      <th>3</th>\n",
       "      <td>0.6887</td>\n",
       "    </tr>\n",
       "    <tr>\n",
       "      <th>4</th>\n",
       "      <td>0.5767</td>\n",
       "    </tr>\n",
       "    <tr>\n",
       "      <th>5</th>\n",
       "      <td>0.8155</td>\n",
       "    </tr>\n",
       "  </tbody>\n",
       "</table>\n",
       "</div>"
      ],
      "text/plain": [
       "        0\n",
       "0  0.4078\n",
       "1  0.5767\n",
       "2  0.4875\n",
       "3  0.6887\n",
       "4  0.5767\n",
       "5  0.8155"
      ]
     },
     "execution_count": 17,
     "metadata": {},
     "output_type": "execute_result"
    }
   ],
   "source": [
    "def v(b, h):\n",
    "    v=np.sqrt(2*g*(b-h))\n",
    "    return v\n",
    "\n",
    "vel = []\n",
    "b_inicial = [b_1, b_2, b_3]\n",
    "for i in range(3):\n",
    "    for j in range(2):\n",
    "        vel.append(round(v(b_inicial[i],bloques[j+2*i]),4))\n",
    "vel = pd.DataFrame(vel)\n",
    "vel"
   ]
  },
  {
   "cell_type": "code",
   "execution_count": 26,
   "metadata": {},
   "outputs": [
    {
     "data": {
      "text/html": [
       "<div>\n",
       "<style scoped>\n",
       "    .dataframe tbody tr th:only-of-type {\n",
       "        vertical-align: middle;\n",
       "    }\n",
       "\n",
       "    .dataframe tbody tr th {\n",
       "        vertical-align: top;\n",
       "    }\n",
       "\n",
       "    .dataframe thead th {\n",
       "        text-align: right;\n",
       "    }\n",
       "</style>\n",
       "<table border=\"1\" class=\"dataframe\">\n",
       "  <thead>\n",
       "    <tr style=\"text-align: right;\">\n",
       "      <th></th>\n",
       "      <th>Set1.1</th>\n",
       "      <th>Set1.2</th>\n",
       "      <th>Set2.1</th>\n",
       "      <th>Set2.2</th>\n",
       "      <th>Set3.1</th>\n",
       "      <th>Set3.2</th>\n",
       "      <th>Set4.1</th>\n",
       "      <th>Set4.2</th>\n",
       "      <th>Set5.1</th>\n",
       "      <th>Set5.2</th>\n",
       "      <th>Set6.1</th>\n",
       "      <th>Set6.2</th>\n",
       "      <th>Set7.1</th>\n",
       "      <th>Set7.2</th>\n",
       "      <th>Set8.1</th>\n",
       "      <th>Set8.2</th>\n",
       "      <th>Set9.1</th>\n",
       "      <th>Set9.2</th>\n",
       "    </tr>\n",
       "  </thead>\n",
       "  <tbody>\n",
       "    <tr>\n",
       "      <th>0</th>\n",
       "      <td>0.4099</td>\n",
       "      <td>0.57</td>\n",
       "      <td>0.4088</td>\n",
       "      <td>0.5702</td>\n",
       "      <td>0.4074</td>\n",
       "      <td>0.5682</td>\n",
       "      <td>0.4865</td>\n",
       "      <td>0.6805</td>\n",
       "      <td>0.4867</td>\n",
       "      <td>0.6793</td>\n",
       "      <td>0.4856</td>\n",
       "      <td>0.679</td>\n",
       "      <td>0.5732</td>\n",
       "      <td>0.8007</td>\n",
       "      <td>0.5738</td>\n",
       "      <td>0.8005</td>\n",
       "      <td>0.5756</td>\n",
       "      <td>0.7992</td>\n",
       "    </tr>\n",
       "  </tbody>\n",
       "</table>\n",
       "</div>"
      ],
      "text/plain": [
       "   Set1.1  Set1.2  Set2.1  Set2.2  Set3.1  Set3.2  Set4.1  Set4.2  Set5.1  \\\n",
       "0  0.4099    0.57  0.4088  0.5702  0.4074  0.5682  0.4865  0.6805  0.4867   \n",
       "\n",
       "   Set5.2  Set6.1  Set6.2  Set7.1  Set7.2  Set8.1  Set8.2  Set9.1  Set9.2  \n",
       "0  0.6793  0.4856   0.679  0.5732  0.8007  0.5738  0.8005  0.5756  0.7992  "
      ]
     },
     "execution_count": 26,
     "metadata": {},
     "output_type": "execute_result"
    }
   ],
   "source": [
    "data_prom"
   ]
  },
  {
   "cell_type": "code",
   "execution_count": 33,
   "metadata": {},
   "outputs": [
    {
     "data": {
      "text/plain": [
       "array([[1.8148, 1.8394, 1.9988]])"
      ]
     },
     "execution_count": 33,
     "metadata": {},
     "output_type": "execute_result"
    }
   ],
   "source": [
    "np.round((1-data_prom[data_prom.columns[13:18:2]].values/vel[0][5])*100,4)"
   ]
  }
 ],
 "metadata": {
  "kernelspec": {
   "display_name": "Python 3 (ipykernel)",
   "language": "python",
   "name": "python3"
  },
  "language_info": {
   "codemirror_mode": {
    "name": "ipython",
    "version": 3
   },
   "file_extension": ".py",
   "mimetype": "text/x-python",
   "name": "python",
   "nbconvert_exporter": "python",
   "pygments_lexer": "ipython3",
   "version": "3.9.7"
  }
 },
 "nbformat": 4,
 "nbformat_minor": 4
}
