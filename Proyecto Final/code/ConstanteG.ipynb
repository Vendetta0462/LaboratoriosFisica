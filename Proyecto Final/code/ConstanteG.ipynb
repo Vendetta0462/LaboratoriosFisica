{
 "cells": [
  {
   "cell_type": "markdown",
   "metadata": {},
   "source": [
    "## Constante de gravitación universal G"
   ]
  },
  {
   "cell_type": "markdown",
   "metadata": {},
   "source": [
    "### Importe y tratamiento de datos"
   ]
  },
  {
   "cell_type": "code",
   "execution_count": 34,
   "metadata": {},
   "outputs": [],
   "source": [
    "# -*- coding: utf-8 -*-"
   ]
  },
  {
   "cell_type": "code",
   "execution_count": 35,
   "metadata": {},
   "outputs": [],
   "source": [
    "import pandas as pd\n",
    "import numpy as np\n",
    "from astropy import units as u\n",
    "import matplotlib.pyplot as plt"
   ]
  },
  {
   "cell_type": "code",
   "execution_count": 36,
   "metadata": {},
   "outputs": [
    {
     "data": {
      "text/html": [
       "<div>\n",
       "<style scoped>\n",
       "    .dataframe tbody tr th:only-of-type {\n",
       "        vertical-align: middle;\n",
       "    }\n",
       "\n",
       "    .dataframe tbody tr th {\n",
       "        vertical-align: top;\n",
       "    }\n",
       "\n",
       "    .dataframe thead th {\n",
       "        text-align: right;\n",
       "    }\n",
       "</style>\n",
       "<table border=\"1\" class=\"dataframe\">\n",
       "  <thead>\n",
       "    <tr style=\"text-align: right;\">\n",
       "      <th></th>\n",
       "      <th>Tiempo</th>\n",
       "      <th>Ángulo</th>\n",
       "    </tr>\n",
       "  </thead>\n",
       "  <tbody>\n",
       "    <tr>\n",
       "      <th>0</th>\n",
       "      <td>0.00</td>\n",
       "      <td>0.000193</td>\n",
       "    </tr>\n",
       "    <tr>\n",
       "      <th>1</th>\n",
       "      <td>0.83</td>\n",
       "      <td>0.000193</td>\n",
       "    </tr>\n",
       "    <tr>\n",
       "      <th>2</th>\n",
       "      <td>1.66</td>\n",
       "      <td>0.000193</td>\n",
       "    </tr>\n",
       "    <tr>\n",
       "      <th>3</th>\n",
       "      <td>2.50</td>\n",
       "      <td>0.000193</td>\n",
       "    </tr>\n",
       "    <tr>\n",
       "      <th>4</th>\n",
       "      <td>3.33</td>\n",
       "      <td>0.000193</td>\n",
       "    </tr>\n",
       "    <tr>\n",
       "      <th>...</th>\n",
       "      <td>...</td>\n",
       "      <td>...</td>\n",
       "    </tr>\n",
       "    <tr>\n",
       "      <th>1035</th>\n",
       "      <td>874.62</td>\n",
       "      <td>-0.014807</td>\n",
       "    </tr>\n",
       "    <tr>\n",
       "      <th>1036</th>\n",
       "      <td>875.45</td>\n",
       "      <td>-0.013807</td>\n",
       "    </tr>\n",
       "    <tr>\n",
       "      <th>1037</th>\n",
       "      <td>876.28</td>\n",
       "      <td>-0.012807</td>\n",
       "    </tr>\n",
       "    <tr>\n",
       "      <th>1038</th>\n",
       "      <td>877.11</td>\n",
       "      <td>-0.011807</td>\n",
       "    </tr>\n",
       "    <tr>\n",
       "      <th>1039</th>\n",
       "      <td>877.95</td>\n",
       "      <td>-0.007807</td>\n",
       "    </tr>\n",
       "  </tbody>\n",
       "</table>\n",
       "<p>1040 rows × 2 columns</p>\n",
       "</div>"
      ],
      "text/plain": [
       "      Tiempo    Ángulo\n",
       "0       0.00  0.000193\n",
       "1       0.83  0.000193\n",
       "2       1.66  0.000193\n",
       "3       2.50  0.000193\n",
       "4       3.33  0.000193\n",
       "...      ...       ...\n",
       "1035  874.62 -0.014807\n",
       "1036  875.45 -0.013807\n",
       "1037  876.28 -0.012807\n",
       "1038  877.11 -0.011807\n",
       "1039  877.95 -0.007807\n",
       "\n",
       "[1040 rows x 2 columns]"
      ]
     },
     "execution_count": 36,
     "metadata": {},
     "output_type": "execute_result"
    }
   ],
   "source": [
    "df=pd.read_csv('data_1.csv', delimiter=' ', decimal=',')\n",
    "df.columns=['Tiempo','Ángulo']\n",
    "df['Ángulo']=df['Ángulo']+np.pi-(0.0234)\n",
    "df['Tiempo']=df['Tiempo']*10\n",
    "df"
   ]
  },
  {
   "cell_type": "code",
   "execution_count": 37,
   "metadata": {},
   "outputs": [
    {
     "data": {
      "text/html": [
       "<div>\n",
       "<style scoped>\n",
       "    .dataframe tbody tr th:only-of-type {\n",
       "        vertical-align: middle;\n",
       "    }\n",
       "\n",
       "    .dataframe tbody tr th {\n",
       "        vertical-align: top;\n",
       "    }\n",
       "\n",
       "    .dataframe thead th {\n",
       "        text-align: right;\n",
       "    }\n",
       "</style>\n",
       "<table border=\"1\" class=\"dataframe\">\n",
       "  <thead>\n",
       "    <tr style=\"text-align: right;\">\n",
       "      <th></th>\n",
       "      <th>Tiempo</th>\n",
       "      <th>Ángulo</th>\n",
       "    </tr>\n",
       "  </thead>\n",
       "  <tbody>\n",
       "    <tr>\n",
       "      <th>count</th>\n",
       "      <td>1040.000000</td>\n",
       "      <td>1040.000000</td>\n",
       "    </tr>\n",
       "    <tr>\n",
       "      <th>mean</th>\n",
       "      <td>432.945808</td>\n",
       "      <td>0.008136</td>\n",
       "    </tr>\n",
       "    <tr>\n",
       "      <th>std</th>\n",
       "      <td>250.983319</td>\n",
       "      <td>0.118712</td>\n",
       "    </tr>\n",
       "    <tr>\n",
       "      <th>min</th>\n",
       "      <td>0.000000</td>\n",
       "      <td>-0.155807</td>\n",
       "    </tr>\n",
       "    <tr>\n",
       "      <th>25%</th>\n",
       "      <td>216.162500</td>\n",
       "      <td>-0.116807</td>\n",
       "    </tr>\n",
       "    <tr>\n",
       "      <th>50%</th>\n",
       "      <td>432.315000</td>\n",
       "      <td>0.014193</td>\n",
       "    </tr>\n",
       "    <tr>\n",
       "      <th>75%</th>\n",
       "      <td>648.470000</td>\n",
       "      <td>0.129443</td>\n",
       "    </tr>\n",
       "    <tr>\n",
       "      <th>max</th>\n",
       "      <td>877.950000</td>\n",
       "      <td>0.174193</td>\n",
       "    </tr>\n",
       "  </tbody>\n",
       "</table>\n",
       "</div>"
      ],
      "text/plain": [
       "            Tiempo       Ángulo\n",
       "count  1040.000000  1040.000000\n",
       "mean    432.945808     0.008136\n",
       "std     250.983319     0.118712\n",
       "min       0.000000    -0.155807\n",
       "25%     216.162500    -0.116807\n",
       "50%     432.315000     0.014193\n",
       "75%     648.470000     0.129443\n",
       "max     877.950000     0.174193"
      ]
     },
     "execution_count": 37,
     "metadata": {},
     "output_type": "execute_result"
    }
   ],
   "source": [
    "df.describe()"
   ]
  },
  {
   "cell_type": "markdown",
   "metadata": {},
   "source": [
    "### Gráfica del desplazamiento angular en función del tiempo."
   ]
  },
  {
   "cell_type": "code",
   "execution_count": 94,
   "metadata": {},
   "outputs": [
    {
     "data": {
      "text/plain": [
       "Text(530, 0.115, '$Amplitud=0.16$ $rad$')"
      ]
     },
     "execution_count": 94,
     "metadata": {},
     "output_type": "execute_result"
    },
    {
     "data": {
      "image/png": "[encoded data removed]",
      "text/plain": [
       "<Figure size 648x360 with 1 Axes>"
      ]
     },
     "metadata": {
      "needs_background": "light"
     },
     "output_type": "display_data"
    }
   ],
   "source": [
    "plt.figure(figsize=[9,5])\n",
    "plt.plot(df['Tiempo'], df['Ángulo'], 'g')\n",
    "plt.grid(alpha=0.6)\n",
    "plt.title('$Desplazamiento$ $angular$ $de$ $la$ $masa$ $en$ $función$ $del$ $tiempo$', size=16)\n",
    "plt.xlabel('$Tiempo$ $[s]$', size=13)\n",
    "plt.ylabel('$Ángulo$ θ $[rad]$', size=13)\n",
    "length=0.02\n",
    "plt.arrow(256, 0.175, 256, -0.055, head_width=0.02, head_length=length)\n",
    "plt.text(530, 0.115, '$Amplitud=0.16$ $rad$',size=14, bbox={\"boxstyle\" : \"round\", \"color\":\"powderblue\"})"
   ]
  },
  {
   "cell_type": "markdown",
   "metadata": {},
   "source": [
    "### Desviación del periodo y el ángulo medidos"
   ]
  },
  {
   "cell_type": "code",
   "execution_count": 120,
   "metadata": {},
   "outputs": [
    {
     "name": "stdout",
     "output_type": "stream",
     "text": [
      "El valor promedio de la amplitud A es 0.409 mientras que su desviación estándar es  0.495\n",
      "El valor promedio del periodo T es 843.825 mientras que su desviación estándar es  26.164\n"
     ]
    }
   ],
   "source": [
    "df_2=pd.read_csv('t_A.csv', delimiter=' ', decimal=',')\n",
    "df_2.columns=['Periodo','Amplitud']\n",
    "A=df_2['Amplitud']\n",
    "A_prom=round(A.mean(), 3)\n",
    "A_std=round(A.std(), 3)\n",
    "print('El valor promedio de la amplitud A es', A_prom, 'mientras que su desviación estándar es ', A_std)\n",
    "T=df_2['Periodo']*10\n",
    "T_prom=round(T.mean(), 3)\n",
    "T_std=round(T.std(), 3)\n",
    "print('El valor promedio del periodo T es', T_prom, 'mientras que su desviación estándar es ', T_std)"
   ]
  },
  {
   "cell_type": "markdown",
   "metadata": {},
   "source": [
    "## Calculando la constante G"
   ]
  },
  {
   "cell_type": "markdown",
   "metadata": {},
   "source": [
    "$$\n",
    "  G = \\frac{2\\pi^2L\\theta r^2}{T^2M_2}\n",
    "$$"
   ]
  },
  {
   "cell_type": "code",
   "execution_count": 121,
   "metadata": {},
   "outputs": [
    {
     "name": "stdout",
     "output_type": "stream",
     "text": [
      "El valor de la constante Newton-Cavendish es igual a  1.6689e-09 m3 rad / (kg s2)\n"
     ]
    }
   ],
   "source": [
    "T_prom=T_prom*u.s\n",
    "theta=df['Ángulo'].max() *u.radian\n",
    "M=50*u.kg\n",
    "L=1.2*u.m\n",
    "r=0.12*u.m\n",
    "G=(2*np.pi**2*L*theta*r**2)/(T_prom**2*M)\n",
    "print('El valor de la constante Newton-Cavendish es igual a ', np.round(G, 13))"
   ]
  },
  {
   "cell_type": "code",
   "execution_count": 122,
   "metadata": {},
   "outputs": [
    {
     "name": "stdout",
     "output_type": "stream",
     "text": [
      "El valor encontrado para G difiere de su valor aceptado unas  25.006  veces.\n"
     ]
    }
   ],
   "source": [
    "g=(u.radian*u.m**3)/(u.kg*u.s**2)\n",
    "G_real=6.674*(10**-11)*g\n",
    "print('El valor encontrado para G difiere de su valor aceptado unas ', np.round(G/G_real, 3),' veces.')"
   ]
  }
 ],
 "metadata": {
  "celltoolbar": "Raw Cell Format",
  "kernelspec": {
   "display_name": "Python 3",
   "language": "python",
   "name": "python3"
  },
  "language_info": {
   "codemirror_mode": {
    "name": "ipython",
    "version": 3
   },
   "file_extension": ".py",
   "mimetype": "text/x-python",
   "name": "python",
   "nbconvert_exporter": "python",
   "pygments_lexer": "ipython3",
   "version": "3.8.5"
  }
 },
 "nbformat": 4,
 "nbformat_minor": 4
}
