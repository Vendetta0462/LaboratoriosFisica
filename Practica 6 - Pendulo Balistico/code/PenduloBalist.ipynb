{
 "cells": [
  {
   "cell_type": "code",
   "execution_count": 1,
   "id": "ef044089-660a-4cd2-8834-25b119df8ee9",
   "metadata": {},
   "outputs": [],
   "source": [
    "import numpy as np\n",
    "import matplotlib.pyplot as plt\n",
    "import pandas as pd\n",
    "import seaborn as sns"
   ]
  },
  {
   "cell_type": "markdown",
   "id": "6c953dae-745f-4c06-a163-9d2c0a58a3c0",
   "metadata": {},
   "source": [
    "Primera medición con 75g\n",
    "\n",
    "Segunda con 50g\n",
    "\n",
    "Tercera con 20g\n",
    "\n",
    "Cuarta sin masa adicional"
   ]
  },
  {
   "cell_type": "code",
   "execution_count": 59,
   "id": "7f5afaa6-bc69-4dfa-b667-43e5c02abf2f",
   "metadata": {},
   "outputs": [
    {
     "data": {
      "text/plain": [
       "theta_1    0.3108\n",
       "vi_1       5.2385\n",
       "theta_2    0.4828\n",
       "vi_2       5.2718\n",
       "theta_3    0.6162\n",
       "vi_3       5.2528\n",
       "theta_4    0.8854\n",
       "vi_4       5.2418\n",
       "dtype: float64"
      ]
     },
     "execution_count": 59,
     "metadata": {},
     "output_type": "execute_result"
    }
   ],
   "source": [
    "masas_2 = np.array([0.075, 0.05, 0.025, 0])+0.0584 #kg\n",
    "masa_1 = 0.0157 #kg\n",
    "longitudes_CM = np.array([0.266, 0.245, 0.203, 0.175]) #m\n",
    "g = 9.7803 #m/s^2\n",
    "df = pd.read_excel(\"../data/Velocidades y ángulos.xlsx\")\n",
    "df_prom = round(df.mean(),4)\n",
    "df_std = round(df.std(ddof=1),4)\n",
    "df_CV = round(df_std*100/df_prom,4)\n",
    "df_prom"
   ]
  },
  {
   "cell_type": "code",
   "execution_count": 60,
   "id": "261890d2-0716-4b9e-9664-718f27b5a34a",
   "metadata": {},
   "outputs": [
    {
     "data": {
      "text/plain": [
       "vi_1    4.7416\n",
       "vi_2    5.8502\n",
       "vi_3    5.3942\n",
       "vi_4    5.2902\n",
       "dtype: float64"
      ]
     },
     "execution_count": 60,
     "metadata": {},
     "output_type": "execute_result"
    }
   ],
   "source": [
    "vi_calc = pd.Series(dtype=\"float64\")\n",
    "for i in range(0,4):\n",
    "    vi_calc[\"vi_\" + str(i+1)] = round(((masa_1+masas_2[i])/masa_1)*np.sqrt(2*g*longitudes_CM[i]*(1-np.cos(df_prom[\"theta_\"+str(i+1)]))), 4)\n",
    "vi_calc"
   ]
  },
  {
   "cell_type": "code",
   "execution_count": 62,
   "id": "2b555b86-88f9-412d-8335-53224ca8a82b",
   "metadata": {},
   "outputs": [
    {
     "data": {
      "text/plain": [
       "vi_1     9.4855\n",
       "vi_2    10.9716\n",
       "vi_3     2.6919\n",
       "vi_4     0.9233\n",
       "dtype: float64"
      ]
     },
     "execution_count": 62,
     "metadata": {},
     "output_type": "execute_result"
    }
   ],
   "source": [
    "delta_vi = df_prom[[\"vi_1\", \"vi_2\", \"vi_3\", \"vi_4\"]] - vi_calc\n",
    "delta_vi_percent = np.abs(np.round(delta_vi*100/df_prom[[\"vi_1\", \"vi_2\", \"vi_3\", \"vi_4\"]],4))\n",
    "delta_vi_percent"
   ]
  },
  {
   "cell_type": "code",
   "execution_count": 63,
   "id": "6a200b55-451d-4de4-9f78-4c148a4c0432",
   "metadata": {},
   "outputs": [
    {
     "data": {
      "text/plain": [
       "vi_1    8.8261\n",
       "vi_2    6.7382\n",
       "vi_3    5.9101\n",
       "vi_4    4.9809\n",
       "dtype: float64"
      ]
     },
     "execution_count": 63,
     "metadata": {},
     "output_type": "execute_result"
    }
   ],
   "source": [
    "error_vi = pd.Series(dtype=\"float64\")\n",
    "for i in range(4):\n",
    "    error_vi[\"vi_\"+str(i+1)] = round((((np.sqrt(2*g*longitudes_CM[i]*(1-np.cos(df_prom[\"theta_\"+str(i+1)]))))/masa_1)*(masas_2[i]+masa_1)*0.0001/masa_1)+((masa_1+masas_2[i])/masa_1)*((g*np.sqrt((1-np.cos(df_prom[\"theta_\"+str(i+1)]))/2*g*longitudes_CM[i])*0.005)+((np.sin(df_prom[\"theta_\"+str(i+1)])/2)*np.sqrt(2*g*longitudes_CM[i]/(1-np.cos(df_prom[\"theta_\"+str(i+1)])))*0.018)), 4)\n",
    "error_vi_percent = np.abs(np.round(error_vi*100/vi_calc,4))\n",
    "error_vi_percent"
   ]
  }
 ],
 "metadata": {
  "kernelspec": {
   "display_name": "Python 3 (ipykernel)",
   "language": "python",
   "name": "python3"
  },
  "language_info": {
   "codemirror_mode": {
    "name": "ipython",
    "version": 3
   },
   "file_extension": ".py",
   "mimetype": "text/x-python",
   "name": "python",
   "nbconvert_exporter": "python",
   "pygments_lexer": "ipython3",
   "version": "3.9.7"
  }
 },
 "nbformat": 4,
 "nbformat_minor": 5
}
